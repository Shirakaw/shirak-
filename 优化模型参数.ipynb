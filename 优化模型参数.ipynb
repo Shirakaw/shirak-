{
 "cells": [
  {
   "cell_type": "code",
   "execution_count": 1,
   "metadata": {},
   "outputs": [
    {
     "name": "stdout",
     "output_type": "stream",
     "text": [
      "Downloading http://fashion-mnist.s3-website.eu-central-1.amazonaws.com/train-images-idx3-ubyte.gz\n",
      "Downloading http://fashion-mnist.s3-website.eu-central-1.amazonaws.com/train-images-idx3-ubyte.gz to data\\FashionMNIST\\raw\\train-images-idx3-ubyte.gz\n"
     ]
    },
    {
     "data": {
      "application/vnd.jupyter.widget-view+json": {
       "model_id": "6decd12c8dce446bb7b74c3fc1bd87fc",
       "version_major": 2,
       "version_minor": 0
      },
      "text/plain": [
       "HBox(children=(HTML(value=''), FloatProgress(value=0.0, max=26421880.0), HTML(value='')))"
      ]
     },
     "metadata": {},
     "output_type": "display_data"
    },
    {
     "name": "stdout",
     "output_type": "stream",
     "text": [
      "\n",
      "Extracting data\\FashionMNIST\\raw\\train-images-idx3-ubyte.gz to data\\FashionMNIST\\raw\n",
      "\n",
      "Downloading http://fashion-mnist.s3-website.eu-central-1.amazonaws.com/train-labels-idx1-ubyte.gz\n",
      "Downloading http://fashion-mnist.s3-website.eu-central-1.amazonaws.com/train-labels-idx1-ubyte.gz to data\\FashionMNIST\\raw\\train-labels-idx1-ubyte.gz\n"
     ]
    },
    {
     "data": {
      "application/vnd.jupyter.widget-view+json": {
       "model_id": "f33bff8f8a644cb892e68d97b3e34843",
       "version_major": 2,
       "version_minor": 0
      },
      "text/plain": [
       "HBox(children=(HTML(value=''), FloatProgress(value=0.0, max=29515.0), HTML(value='')))"
      ]
     },
     "metadata": {},
     "output_type": "display_data"
    },
    {
     "name": "stdout",
     "output_type": "stream",
     "text": [
      "\n",
      "Extracting data\\FashionMNIST\\raw\\train-labels-idx1-ubyte.gz to data\\FashionMNIST\\raw\n",
      "\n",
      "Downloading http://fashion-mnist.s3-website.eu-central-1.amazonaws.com/t10k-images-idx3-ubyte.gz\n",
      "Downloading http://fashion-mnist.s3-website.eu-central-1.amazonaws.com/t10k-images-idx3-ubyte.gz to data\\FashionMNIST\\raw\\t10k-images-idx3-ubyte.gz\n"
     ]
    },
    {
     "data": {
      "application/vnd.jupyter.widget-view+json": {
       "model_id": "709d3da45242494a9d8971ddf2deb696",
       "version_major": 2,
       "version_minor": 0
      },
      "text/plain": [
       "HBox(children=(HTML(value=''), FloatProgress(value=0.0, max=4422102.0), HTML(value='')))"
      ]
     },
     "metadata": {},
     "output_type": "display_data"
    },
    {
     "name": "stdout",
     "output_type": "stream",
     "text": [
      "\n",
      "Extracting data\\FashionMNIST\\raw\\t10k-images-idx3-ubyte.gz to data\\FashionMNIST\\raw\n",
      "\n",
      "Downloading http://fashion-mnist.s3-website.eu-central-1.amazonaws.com/t10k-labels-idx1-ubyte.gz\n",
      "Downloading http://fashion-mnist.s3-website.eu-central-1.amazonaws.com/t10k-labels-idx1-ubyte.gz to data\\FashionMNIST\\raw\\t10k-labels-idx1-ubyte.gz\n"
     ]
    },
    {
     "data": {
      "application/vnd.jupyter.widget-view+json": {
       "model_id": "552d8ca5f8114c60bd32bef23c301778",
       "version_major": 2,
       "version_minor": 0
      },
      "text/plain": [
       "HBox(children=(HTML(value=''), FloatProgress(value=0.0, max=5148.0), HTML(value='')))"
      ]
     },
     "metadata": {},
     "output_type": "display_data"
    },
    {
     "name": "stdout",
     "output_type": "stream",
     "text": [
      "\n",
      "Extracting data\\FashionMNIST\\raw\\t10k-labels-idx1-ubyte.gz to data\\FashionMNIST\\raw\n",
      "\n"
     ]
    },
    {
     "name": "stderr",
     "output_type": "stream",
     "text": [
      "D:\\anaconda\\lib\\site-packages\\torchvision\\datasets\\mnist.py:498: UserWarning: The given NumPy array is not writeable, and PyTorch does not support non-writeable tensors. This means you can write to the underlying (supposedly non-writeable) NumPy array using the tensor. You may want to copy the array to protect its data or make it writeable before converting it to a tensor. This type of warning will be suppressed for the rest of this program. (Triggered internally at  ..\\torch\\csrc\\utils\\tensor_numpy.cpp:180.)\n",
      "  return torch.from_numpy(parsed.astype(m[2], copy=False)).view(*s)\n"
     ]
    }
   ],
   "source": [
    "import torch\n",
    "from torch import nn\n",
    "from torch.utils.data import DataLoader\n",
    "from torchvision import datasets\n",
    "from torchvision.transforms import ToTensor, Lambda\n",
    "\n",
    "training_data = datasets.FashionMNIST(\n",
    "    root=\"data\",\n",
    "    train=True,\n",
    "    download=True,\n",
    "    transform=ToTensor()\n",
    ")\n",
    "\n",
    "test_data = datasets.FashionMNIST(\n",
    "    root=\"data\",\n",
    "    train=False,\n",
    "    download=True,\n",
    "    transform=ToTensor()\n",
    ")\n",
    "\n",
    "train_dataloader = DataLoader(training_data, batch_size=64)\n",
    "test_dataloader = DataLoader(test_data, batch_size=64)\n",
    "\n",
    "class NeuralNetwork(nn.Module):\n",
    "    def __init__(self):\n",
    "        super(NeuralNetwork, self).__init__()\n",
    "        self.flatten = nn.Flatten()\n",
    "        self.linear_relu_stack = nn.Sequential(\n",
    "            nn.Linear(28*28, 512),\n",
    "            nn.ReLU(),\n",
    "            nn.Linear(512, 512),\n",
    "            nn.ReLU(),\n",
    "            nn.Linear(512, 10),\n",
    "            nn.ReLU()\n",
    "        )\n",
    "\n",
    "    def forward(self, x):\n",
    "        x = self.flatten(x)\n",
    "        logits = self.linear_relu_stack(x)\n",
    "        return logits\n",
    "\n",
    "model = NeuralNetwork()"
   ]
  },
  {
   "cell_type": "code",
   "execution_count": 2,
   "metadata": {},
   "outputs": [],
   "source": [
    "learning_rate = 1e-3\n",
    "batch_size = 64\n",
    "epochs = 5"
   ]
  },
  {
   "cell_type": "code",
   "execution_count": 3,
   "metadata": {},
   "outputs": [],
   "source": [
    "# Initialize the loss function\n",
    "loss_fn = nn.CrossEntropyLoss()"
   ]
  },
  {
   "cell_type": "code",
   "execution_count": 5,
   "metadata": {},
   "outputs": [],
   "source": [
    "def train_loop(dataloader, model, loss_fn, optimizer):\n",
    "    size = len(dataloader.dataset)\n",
    "    for batch, (X, y) in enumerate(dataloader):\n",
    "        # Compute prediction and loss\n",
    "        pred = model(X)\n",
    "        loss = loss_fn(pred, y)\n",
    "\n",
    "        # Backpropagation\n",
    "        optimizer.zero_grad()\n",
    "        loss.backward()\n",
    "        optimizer.step()\n",
    "\n",
    "        if batch % 100 == 0:\n",
    "            loss, current = loss.item(), batch * len(X)\n",
    "            print(f\"loss: {loss:>7f}  [{current:>5d}/{size:>5d}]\")\n",
    "\n",
    "\n",
    "def test_loop(dataloader, model, loss_fn):\n",
    "    size = len(dataloader.dataset)\n",
    "    num_batches = len(dataloader)\n",
    "    test_loss, correct = 0, 0\n",
    "\n",
    "    with torch.no_grad():\n",
    "        for X, y in dataloader:\n",
    "            pred = model(X)\n",
    "            test_loss += loss_fn(pred, y).item()\n",
    "            correct += (pred.argmax(1) == y).type(torch.float).sum().item()\n",
    "\n",
    "    test_loss /= num_batches\n",
    "    correct /= size\n",
    "    print(f\"Test Error: \\n Accuracy: {(100*correct):>0.1f}%, Avg loss: {test_loss:>8f} \\n\")"
   ]
  },
  {
   "cell_type": "code",
   "execution_count": 6,
   "metadata": {},
   "outputs": [
    {
     "name": "stdout",
     "output_type": "stream",
     "text": [
      "Epoch 1\n",
      "-------------------------------\n",
      "loss: 2.305104  [    0/60000]\n",
      "loss: 2.298138  [ 6400/60000]\n",
      "loss: 2.298409  [12800/60000]\n",
      "loss: 2.291145  [19200/60000]\n",
      "loss: 2.282305  [25600/60000]\n",
      "loss: 2.283662  [32000/60000]\n",
      "loss: 2.273299  [38400/60000]\n",
      "loss: 2.264870  [44800/60000]\n",
      "loss: 2.267418  [51200/60000]\n",
      "loss: 2.271497  [57600/60000]\n",
      "Test Error: \n",
      " Accuracy: 36.3%, Avg loss: 2.252888 \n",
      "\n",
      "Epoch 2\n",
      "-------------------------------\n",
      "loss: 2.264597  [    0/60000]\n",
      "loss: 2.258211  [ 6400/60000]\n",
      "loss: 2.253201  [12800/60000]\n",
      "loss: 2.245131  [19200/60000]\n",
      "loss: 2.220902  [25600/60000]\n",
      "loss: 2.246272  [32000/60000]\n",
      "loss: 2.216820  [38400/60000]\n",
      "loss: 2.207814  [44800/60000]\n",
      "loss: 2.214998  [51200/60000]\n",
      "loss: 2.228172  [57600/60000]\n",
      "Test Error: \n",
      " Accuracy: 38.4%, Avg loss: 2.188847 \n",
      "\n",
      "Epoch 3\n",
      "-------------------------------\n",
      "loss: 2.217781  [    0/60000]\n",
      "loss: 2.207351  [ 6400/60000]\n",
      "loss: 2.197541  [12800/60000]\n",
      "loss: 2.180970  [19200/60000]\n",
      "loss: 2.135722  [25600/60000]\n",
      "loss: 2.198363  [32000/60000]\n",
      "loss: 2.138961  [38400/60000]\n",
      "loss: 2.132565  [44800/60000]\n",
      "loss: 2.148030  [51200/60000]\n",
      "loss: 2.168908  [57600/60000]\n",
      "Test Error: \n",
      " Accuracy: 38.7%, Avg loss: 2.104042 \n",
      "\n",
      "Epoch 4\n",
      "-------------------------------\n",
      "loss: 2.163162  [    0/60000]\n",
      "loss: 2.143978  [ 6400/60000]\n",
      "loss: 2.130901  [12800/60000]\n",
      "loss: 2.096206  [19200/60000]\n",
      "loss: 2.031704  [25600/60000]\n",
      "loss: 2.142422  [32000/60000]\n",
      "loss: 2.046826  [38400/60000]\n",
      "loss: 2.046842  [44800/60000]\n",
      "loss: 2.076101  [51200/60000]\n",
      "loss: 2.103016  [57600/60000]\n",
      "Test Error: \n",
      " Accuracy: 40.1%, Avg loss: 2.014164 \n",
      "\n",
      "Epoch 5\n",
      "-------------------------------\n",
      "loss: 2.107590  [    0/60000]\n",
      "loss: 2.079908  [ 6400/60000]\n",
      "loss: 2.067031  [12800/60000]\n",
      "loss: 2.012980  [19200/60000]\n",
      "loss: 1.933036  [25600/60000]\n",
      "loss: 2.085086  [32000/60000]\n",
      "loss: 1.964941  [38400/60000]\n",
      "loss: 1.970218  [44800/60000]\n",
      "loss: 2.007832  [51200/60000]\n",
      "loss: 2.044956  [57600/60000]\n",
      "Test Error: \n",
      " Accuracy: 42.4%, Avg loss: 1.935599 \n",
      "\n",
      "Epoch 6\n",
      "-------------------------------\n",
      "loss: 2.050560  [    0/60000]\n",
      "loss: 2.020260  [ 6400/60000]\n",
      "loss: 2.006060  [12800/60000]\n",
      "loss: 1.943336  [19200/60000]\n",
      "loss: 1.848279  [25600/60000]\n",
      "loss: 2.028414  [32000/60000]\n",
      "loss: 1.899298  [38400/60000]\n",
      "loss: 1.906780  [44800/60000]\n",
      "loss: 1.945445  [51200/60000]\n",
      "loss: 1.996941  [57600/60000]\n",
      "Test Error: \n",
      " Accuracy: 44.4%, Avg loss: 1.869539 \n",
      "\n",
      "Epoch 7\n",
      "-------------------------------\n",
      "loss: 1.993785  [    0/60000]\n",
      "loss: 1.965476  [ 6400/60000]\n",
      "loss: 1.948025  [12800/60000]\n",
      "loss: 1.883557  [19200/60000]\n",
      "loss: 1.779382  [25600/60000]\n",
      "loss: 1.978390  [32000/60000]\n",
      "loss: 1.846908  [38400/60000]\n",
      "loss: 1.855523  [44800/60000]\n",
      "loss: 1.892800  [51200/60000]\n",
      "loss: 1.957615  [57600/60000]\n",
      "Test Error: \n",
      " Accuracy: 45.5%, Avg loss: 1.815494 \n",
      "\n",
      "Epoch 8\n",
      "-------------------------------\n",
      "loss: 1.941711  [    0/60000]\n",
      "loss: 1.918496  [ 6400/60000]\n",
      "loss: 1.895786  [12800/60000]\n",
      "loss: 1.833215  [19200/60000]\n",
      "loss: 1.725853  [25600/60000]\n",
      "loss: 1.935559  [32000/60000]\n",
      "loss: 1.805514  [38400/60000]\n",
      "loss: 1.817224  [44800/60000]\n",
      "loss: 1.849577  [51200/60000]\n",
      "loss: 1.925564  [57600/60000]\n",
      "Test Error: \n",
      " Accuracy: 46.0%, Avg loss: 1.772566 \n",
      "\n",
      "Epoch 9\n",
      "-------------------------------\n",
      "loss: 1.898087  [    0/60000]\n",
      "loss: 1.879850  [ 6400/60000]\n",
      "loss: 1.852806  [12800/60000]\n",
      "loss: 1.793725  [19200/60000]\n",
      "loss: 1.684980  [25600/60000]\n",
      "loss: 1.901260  [32000/60000]\n",
      "loss: 1.773911  [38400/60000]\n",
      "loss: 1.788389  [44800/60000]\n",
      "loss: 1.815329  [51200/60000]\n",
      "loss: 1.899708  [57600/60000]\n",
      "Test Error: \n",
      " Accuracy: 46.3%, Avg loss: 1.739542 \n",
      "\n",
      "Epoch 10\n",
      "-------------------------------\n",
      "loss: 1.862853  [    0/60000]\n",
      "loss: 1.850363  [ 6400/60000]\n",
      "loss: 1.817979  [12800/60000]\n",
      "loss: 1.762770  [19200/60000]\n",
      "loss: 1.654477  [25600/60000]\n",
      "loss: 1.874408  [32000/60000]\n",
      "loss: 1.748889  [38400/60000]\n",
      "loss: 1.766114  [44800/60000]\n",
      "loss: 1.787701  [51200/60000]\n",
      "loss: 1.878926  [57600/60000]\n",
      "Test Error: \n",
      " Accuracy: 46.4%, Avg loss: 1.713801 \n",
      "\n",
      "Done!\n"
     ]
    }
   ],
   "source": [
    "loss_fn = nn.CrossEntropyLoss()\n",
    "optimizer = torch.optim.SGD(model.parameters(), lr=learning_rate)\n",
    "\n",
    "epochs = 10\n",
    "for t in range(epochs):\n",
    "    print(f\"Epoch {t+1}\\n-------------------------------\")\n",
    "    train_loop(train_dataloader, model, loss_fn, optimizer)\n",
    "    test_loop(test_dataloader, model, loss_fn)\n",
    "print(\"Done!\")"
   ]
  },
  {
   "cell_type": "code",
   "execution_count": null,
   "metadata": {},
   "outputs": [],
   "source": []
  }
 ],
 "metadata": {
  "kernelspec": {
   "display_name": "Python 3",
   "language": "python",
   "name": "python3"
  },
  "language_info": {
   "codemirror_mode": {
    "name": "ipython",
    "version": 3
   },
   "file_extension": ".py",
   "mimetype": "text/x-python",
   "name": "python",
   "nbconvert_exporter": "python",
   "pygments_lexer": "ipython3",
   "version": "3.8.5"
  }
 },
 "nbformat": 4,
 "nbformat_minor": 4
}

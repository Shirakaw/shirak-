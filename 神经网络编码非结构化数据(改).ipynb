{
 "cells": [
  {
   "cell_type": "code",
   "execution_count": 1,
   "id": "8a354be5",
   "metadata": {},
   "outputs": [
    {
     "name": "stderr",
     "output_type": "stream",
     "text": [
      "Using TensorFlow backend.\n"
     ]
    }
   ],
   "source": [
    "# 整个思路 模型脱敏（结构化）通过categorical——embedder方式——神经网络，自行搭建测试——k折验证，自主调参——(可以加正则化优化)\n",
    "# 导入数据\n",
    "import pandas as pd\n",
    "import numpy as np\n",
    "import categorical_embedder as ce\n",
    "from sklearn.model_selection import train_test_split\n",
    "from keras import models\n",
    "from keras import layers\n",
    "import matplotlib.pyplot as plt\n",
    "import csv"
   ]
  },
  {
   "cell_type": "code",
   "execution_count": 2,
   "id": "09bd9a11",
   "metadata": {},
   "outputs": [
    {
     "data": {
      "text/plain": [
       "(35000, 36)"
      ]
     },
     "execution_count": 2,
     "metadata": {},
     "output_type": "execute_result"
    }
   ],
   "source": [
    "train_data = pd.read_csv('train_estimates.csv')\n",
    "train_data.shape"
   ]
  },
  {
   "cell_type": "code",
   "execution_count": 3,
   "id": "87a1ef33",
   "metadata": {},
   "outputs": [
    {
     "data": {
      "text/html": [
       "<div>\n",
       "<style scoped>\n",
       "    .dataframe tbody tr th:only-of-type {\n",
       "        vertical-align: middle;\n",
       "    }\n",
       "\n",
       "    .dataframe tbody tr th {\n",
       "        vertical-align: top;\n",
       "    }\n",
       "\n",
       "    .dataframe thead th {\n",
       "        text-align: right;\n",
       "    }\n",
       "</style>\n",
       "<table border=\"1\" class=\"dataframe\">\n",
       "  <thead>\n",
       "    <tr style=\"text-align: right;\">\n",
       "      <th></th>\n",
       "      <th>carid</th>\n",
       "      <th>tradeTime</th>\n",
       "      <th>brand</th>\n",
       "      <th>serial</th>\n",
       "      <th>model</th>\n",
       "      <th>mileage</th>\n",
       "      <th>color</th>\n",
       "      <th>cityId</th>\n",
       "      <th>carCode</th>\n",
       "      <th>transferCount</th>\n",
       "      <th>...</th>\n",
       "      <th>anonymousFeature7</th>\n",
       "      <th>anonymousFeature8</th>\n",
       "      <th>anonymousFeature9</th>\n",
       "      <th>anonymousFeature10</th>\n",
       "      <th>anonymousFeature11</th>\n",
       "      <th>anonymousFeature12</th>\n",
       "      <th>anonymousFeature13</th>\n",
       "      <th>anonymousFeature14</th>\n",
       "      <th>anonymousFeature15</th>\n",
       "      <th>price</th>\n",
       "    </tr>\n",
       "  </thead>\n",
       "  <tbody>\n",
       "    <tr>\n",
       "      <th>0</th>\n",
       "      <td>1</td>\n",
       "      <td>2021/6/28</td>\n",
       "      <td>1</td>\n",
       "      <td>1</td>\n",
       "      <td>1</td>\n",
       "      <td>4.01</td>\n",
       "      <td>1</td>\n",
       "      <td>1</td>\n",
       "      <td>1</td>\n",
       "      <td>0</td>\n",
       "      <td>...</td>\n",
       "      <td>0</td>\n",
       "      <td>1</td>\n",
       "      <td>5</td>\n",
       "      <td>2</td>\n",
       "      <td>1</td>\n",
       "      <td>4220*1740*1625</td>\n",
       "      <td>201709</td>\n",
       "      <td>1</td>\n",
       "      <td>0</td>\n",
       "      <td>4.24</td>\n",
       "    </tr>\n",
       "    <tr>\n",
       "      <th>1</th>\n",
       "      <td>2</td>\n",
       "      <td>2021/6/25</td>\n",
       "      <td>2</td>\n",
       "      <td>2</td>\n",
       "      <td>2</td>\n",
       "      <td>8.60</td>\n",
       "      <td>1</td>\n",
       "      <td>2</td>\n",
       "      <td>1</td>\n",
       "      <td>0</td>\n",
       "      <td>...</td>\n",
       "      <td>0</td>\n",
       "      <td>2</td>\n",
       "      <td>4</td>\n",
       "      <td>3</td>\n",
       "      <td>1+2</td>\n",
       "      <td>4630*1775*1480</td>\n",
       "      <td>201609</td>\n",
       "      <td>2</td>\n",
       "      <td>0</td>\n",
       "      <td>7.38</td>\n",
       "    </tr>\n",
       "    <tr>\n",
       "      <th>2</th>\n",
       "      <td>5</td>\n",
       "      <td>2021/6/19</td>\n",
       "      <td>5</td>\n",
       "      <td>5</td>\n",
       "      <td>5</td>\n",
       "      <td>15.56</td>\n",
       "      <td>1</td>\n",
       "      <td>2</td>\n",
       "      <td>3</td>\n",
       "      <td>0</td>\n",
       "      <td>...</td>\n",
       "      <td>0</td>\n",
       "      <td>0</td>\n",
       "      <td>0</td>\n",
       "      <td>0</td>\n",
       "      <td>0</td>\n",
       "      <td>4515*1725*1445</td>\n",
       "      <td>0</td>\n",
       "      <td>2</td>\n",
       "      <td>0</td>\n",
       "      <td>1.00</td>\n",
       "    </tr>\n",
       "    <tr>\n",
       "      <th>3</th>\n",
       "      <td>6</td>\n",
       "      <td>2021/6/29</td>\n",
       "      <td>6</td>\n",
       "      <td>6</td>\n",
       "      <td>6</td>\n",
       "      <td>6.04</td>\n",
       "      <td>1</td>\n",
       "      <td>3</td>\n",
       "      <td>1</td>\n",
       "      <td>3</td>\n",
       "      <td>...</td>\n",
       "      <td>2018/8/18</td>\n",
       "      <td>2</td>\n",
       "      <td>5</td>\n",
       "      <td>2</td>\n",
       "      <td>1</td>\n",
       "      <td>4500*1834*1707</td>\n",
       "      <td>201608</td>\n",
       "      <td>2</td>\n",
       "      <td>0</td>\n",
       "      <td>4.38</td>\n",
       "    </tr>\n",
       "    <tr>\n",
       "      <th>4</th>\n",
       "      <td>7</td>\n",
       "      <td>2021/6/30</td>\n",
       "      <td>7</td>\n",
       "      <td>7</td>\n",
       "      <td>7</td>\n",
       "      <td>5.70</td>\n",
       "      <td>4</td>\n",
       "      <td>1</td>\n",
       "      <td>2</td>\n",
       "      <td>2</td>\n",
       "      <td>...</td>\n",
       "      <td>2020/9/20</td>\n",
       "      <td>1</td>\n",
       "      <td>5</td>\n",
       "      <td>2</td>\n",
       "      <td>1</td>\n",
       "      <td>4315*1783*1606</td>\n",
       "      <td>201204</td>\n",
       "      <td>1</td>\n",
       "      <td>0</td>\n",
       "      <td>5.90</td>\n",
       "    </tr>\n",
       "  </tbody>\n",
       "</table>\n",
       "<p>5 rows × 36 columns</p>\n",
       "</div>"
      ],
      "text/plain": [
       "   carid  tradeTime  brand  serial  model  mileage  color  cityId  carCode  \\\n",
       "0      1  2021/6/28      1       1      1     4.01      1       1        1   \n",
       "1      2  2021/6/25      2       2      2     8.60      1       2        1   \n",
       "2      5  2021/6/19      5       5      5    15.56      1       2        3   \n",
       "3      6  2021/6/29      6       6      6     6.04      1       3        1   \n",
       "4      7  2021/6/30      7       7      7     5.70      4       1        2   \n",
       "\n",
       "   transferCount  ...  anonymousFeature7 anonymousFeature8 anonymousFeature9  \\\n",
       "0              0  ...                  0                 1                 5   \n",
       "1              0  ...                  0                 2                 4   \n",
       "2              0  ...                  0                 0                 0   \n",
       "3              3  ...          2018/8/18                 2                 5   \n",
       "4              2  ...          2020/9/20                 1                 5   \n",
       "\n",
       "   anonymousFeature10  anonymousFeature11  anonymousFeature12  \\\n",
       "0                   2                   1      4220*1740*1625   \n",
       "1                   3                 1+2      4630*1775*1480   \n",
       "2                   0                   0      4515*1725*1445   \n",
       "3                   2                   1      4500*1834*1707   \n",
       "4                   2                   1      4315*1783*1606   \n",
       "\n",
       "   anonymousFeature13  anonymousFeature14  anonymousFeature15  price  \n",
       "0              201709                   1                   0   4.24  \n",
       "1              201609                   2                   0   7.38  \n",
       "2                   0                   2                   0   1.00  \n",
       "3              201608                   2                   0   4.38  \n",
       "4              201204                   1                   0   5.90  \n",
       "\n",
       "[5 rows x 36 columns]"
      ]
     },
     "execution_count": 3,
     "metadata": {},
     "output_type": "execute_result"
    }
   ],
   "source": [
    "train_data.head()"
   ]
  },
  {
   "cell_type": "code",
   "execution_count": 4,
   "id": "3c661e64",
   "metadata": {},
   "outputs": [],
   "source": [
    "# 数据脱敏(encoding)\n",
    "X = train_data.drop(['carid', 'price'], axis=1)\n",
    "y = train_data['carid']"
   ]
  },
  {
   "cell_type": "code",
   "execution_count": 5,
   "id": "619966e7",
   "metadata": {},
   "outputs": [
    {
     "data": {
      "text/plain": [
       "{'tradeTime': (682, 50),\n",
       " 'registerDate': (204, 50),\n",
       " 'licenseDate': (3836, 50),\n",
       " 'anonymousFeature7': (2140, 50),\n",
       " 'anonymousFeature11': (7, 4),\n",
       " 'anonymousFeature12': (2293, 50),\n",
       " 'anonymousFeature15': (2219, 50)}"
      ]
     },
     "execution_count": 5,
     "metadata": {},
     "output_type": "execute_result"
    }
   ],
   "source": [
    "# 确定分类变量\n",
    "embedding_info = ce.get_embedding_info(X)\n",
    "embedding_info"
   ]
  },
  {
   "cell_type": "code",
   "execution_count": 6,
   "id": "a168ce99",
   "metadata": {},
   "outputs": [
    {
     "data": {
      "text/html": [
       "<div>\n",
       "<style scoped>\n",
       "    .dataframe tbody tr th:only-of-type {\n",
       "        vertical-align: middle;\n",
       "    }\n",
       "\n",
       "    .dataframe tbody tr th {\n",
       "        vertical-align: top;\n",
       "    }\n",
       "\n",
       "    .dataframe thead th {\n",
       "        text-align: right;\n",
       "    }\n",
       "</style>\n",
       "<table border=\"1\" class=\"dataframe\">\n",
       "  <thead>\n",
       "    <tr style=\"text-align: right;\">\n",
       "      <th></th>\n",
       "      <th>tradeTime</th>\n",
       "      <th>brand</th>\n",
       "      <th>serial</th>\n",
       "      <th>model</th>\n",
       "      <th>mileage</th>\n",
       "      <th>color</th>\n",
       "      <th>cityId</th>\n",
       "      <th>carCode</th>\n",
       "      <th>transferCount</th>\n",
       "      <th>seatings</th>\n",
       "      <th>...</th>\n",
       "      <th>anonymousFeature6</th>\n",
       "      <th>anonymousFeature7</th>\n",
       "      <th>anonymousFeature8</th>\n",
       "      <th>anonymousFeature9</th>\n",
       "      <th>anonymousFeature10</th>\n",
       "      <th>anonymousFeature11</th>\n",
       "      <th>anonymousFeature12</th>\n",
       "      <th>anonymousFeature13</th>\n",
       "      <th>anonymousFeature14</th>\n",
       "      <th>anonymousFeature15</th>\n",
       "    </tr>\n",
       "  </thead>\n",
       "  <tbody>\n",
       "    <tr>\n",
       "      <th>0</th>\n",
       "      <td>580</td>\n",
       "      <td>1</td>\n",
       "      <td>1</td>\n",
       "      <td>1</td>\n",
       "      <td>4.01</td>\n",
       "      <td>1</td>\n",
       "      <td>1</td>\n",
       "      <td>1</td>\n",
       "      <td>0</td>\n",
       "      <td>5</td>\n",
       "      <td>...</td>\n",
       "      <td>1</td>\n",
       "      <td>0</td>\n",
       "      <td>1</td>\n",
       "      <td>5</td>\n",
       "      <td>2</td>\n",
       "      <td>1</td>\n",
       "      <td>237</td>\n",
       "      <td>201709</td>\n",
       "      <td>1</td>\n",
       "      <td>0</td>\n",
       "    </tr>\n",
       "    <tr>\n",
       "      <th>1</th>\n",
       "      <td>577</td>\n",
       "      <td>2</td>\n",
       "      <td>2</td>\n",
       "      <td>2</td>\n",
       "      <td>8.60</td>\n",
       "      <td>1</td>\n",
       "      <td>2</td>\n",
       "      <td>1</td>\n",
       "      <td>0</td>\n",
       "      <td>5</td>\n",
       "      <td>...</td>\n",
       "      <td>2</td>\n",
       "      <td>0</td>\n",
       "      <td>2</td>\n",
       "      <td>4</td>\n",
       "      <td>3</td>\n",
       "      <td>2</td>\n",
       "      <td>1108</td>\n",
       "      <td>201609</td>\n",
       "      <td>2</td>\n",
       "      <td>0</td>\n",
       "    </tr>\n",
       "    <tr>\n",
       "      <th>2</th>\n",
       "      <td>570</td>\n",
       "      <td>5</td>\n",
       "      <td>5</td>\n",
       "      <td>5</td>\n",
       "      <td>15.56</td>\n",
       "      <td>1</td>\n",
       "      <td>2</td>\n",
       "      <td>3</td>\n",
       "      <td>0</td>\n",
       "      <td>5</td>\n",
       "      <td>...</td>\n",
       "      <td>2</td>\n",
       "      <td>0</td>\n",
       "      <td>0</td>\n",
       "      <td>0</td>\n",
       "      <td>0</td>\n",
       "      <td>0</td>\n",
       "      <td>791</td>\n",
       "      <td>0</td>\n",
       "      <td>2</td>\n",
       "      <td>0</td>\n",
       "    </tr>\n",
       "    <tr>\n",
       "      <th>3</th>\n",
       "      <td>581</td>\n",
       "      <td>6</td>\n",
       "      <td>6</td>\n",
       "      <td>6</td>\n",
       "      <td>6.04</td>\n",
       "      <td>1</td>\n",
       "      <td>3</td>\n",
       "      <td>1</td>\n",
       "      <td>3</td>\n",
       "      <td>5</td>\n",
       "      <td>...</td>\n",
       "      <td>1</td>\n",
       "      <td>1137</td>\n",
       "      <td>2</td>\n",
       "      <td>5</td>\n",
       "      <td>2</td>\n",
       "      <td>1</td>\n",
       "      <td>749</td>\n",
       "      <td>201608</td>\n",
       "      <td>2</td>\n",
       "      <td>0</td>\n",
       "    </tr>\n",
       "    <tr>\n",
       "      <th>4</th>\n",
       "      <td>583</td>\n",
       "      <td>7</td>\n",
       "      <td>7</td>\n",
       "      <td>7</td>\n",
       "      <td>5.70</td>\n",
       "      <td>4</td>\n",
       "      <td>1</td>\n",
       "      <td>2</td>\n",
       "      <td>2</td>\n",
       "      <td>5</td>\n",
       "      <td>...</td>\n",
       "      <td>1</td>\n",
       "      <td>1812</td>\n",
       "      <td>1</td>\n",
       "      <td>5</td>\n",
       "      <td>2</td>\n",
       "      <td>1</td>\n",
       "      <td>373</td>\n",
       "      <td>201204</td>\n",
       "      <td>1</td>\n",
       "      <td>0</td>\n",
       "    </tr>\n",
       "  </tbody>\n",
       "</table>\n",
       "<p>5 rows × 34 columns</p>\n",
       "</div>"
      ],
      "text/plain": [
       "   tradeTime  brand  serial  model  mileage  color  cityId  carCode  \\\n",
       "0        580      1       1      1     4.01      1       1        1   \n",
       "1        577      2       2      2     8.60      1       2        1   \n",
       "2        570      5       5      5    15.56      1       2        3   \n",
       "3        581      6       6      6     6.04      1       3        1   \n",
       "4        583      7       7      7     5.70      4       1        2   \n",
       "\n",
       "   transferCount  seatings  ...  anonymousFeature6  anonymousFeature7  \\\n",
       "0              0         5  ...                  1                  0   \n",
       "1              0         5  ...                  2                  0   \n",
       "2              0         5  ...                  2                  0   \n",
       "3              3         5  ...                  1               1137   \n",
       "4              2         5  ...                  1               1812   \n",
       "\n",
       "   anonymousFeature8  anonymousFeature9  anonymousFeature10  \\\n",
       "0                  1                  5                   2   \n",
       "1                  2                  4                   3   \n",
       "2                  0                  0                   0   \n",
       "3                  2                  5                   2   \n",
       "4                  1                  5                   2   \n",
       "\n",
       "   anonymousFeature11  anonymousFeature12  anonymousFeature13  \\\n",
       "0                   1                 237              201709   \n",
       "1                   2                1108              201609   \n",
       "2                   0                 791                   0   \n",
       "3                   1                 749              201608   \n",
       "4                   1                 373              201204   \n",
       "\n",
       "   anonymousFeature14  anonymousFeature15  \n",
       "0                   1                   0  \n",
       "1                   2                   0  \n",
       "2                   2                   0  \n",
       "3                   2                   0  \n",
       "4                   1                   0  \n",
       "\n",
       "[5 rows x 34 columns]"
      ]
     },
     "execution_count": 6,
     "metadata": {},
     "output_type": "execute_result"
    }
   ],
   "source": [
    "# 整数编码\n",
    "X_encoded, encoders = ce.get_label_encoded_data(X)\n",
    "X_encoded.head()"
   ]
  },
  {
   "cell_type": "code",
   "execution_count": 7,
   "id": "1051269d",
   "metadata": {},
   "outputs": [
    {
     "data": {
      "application/vnd.jupyter.widget-view+json": {
       "model_id": "c2b58a28f4244aa9ae6c7675146aa96c",
       "version_major": 2,
       "version_minor": 0
      },
      "text/plain": [
       "Training:   0%|          | 0/100 [00:00<?, ?it/s]"
      ]
     },
     "metadata": {},
     "output_type": "display_data"
    },
    {
     "data": {
      "application/vnd.jupyter.widget-view+json": {
       "model_id": "",
       "version_major": 2,
       "version_minor": 0
      },
      "text/plain": [
       "Epoch 0:   0%|          | 0/21000 [00:00<?, ?it/s]"
      ]
     },
     "metadata": {},
     "output_type": "display_data"
    },
    {
     "data": {
      "application/vnd.jupyter.widget-view+json": {
       "model_id": "",
       "version_major": 2,
       "version_minor": 0
      },
      "text/plain": [
       "Epoch 1:   0%|          | 0/21000 [00:00<?, ?it/s]"
      ]
     },
     "metadata": {},
     "output_type": "display_data"
    },
    {
     "data": {
      "application/vnd.jupyter.widget-view+json": {
       "model_id": "",
       "version_major": 2,
       "version_minor": 0
      },
      "text/plain": [
       "Epoch 2:   0%|          | 0/21000 [00:00<?, ?it/s]"
      ]
     },
     "metadata": {},
     "output_type": "display_data"
    },
    {
     "data": {
      "application/vnd.jupyter.widget-view+json": {
       "model_id": "",
       "version_major": 2,
       "version_minor": 0
      },
      "text/plain": [
       "Epoch 3:   0%|          | 0/21000 [00:00<?, ?it/s]"
      ]
     },
     "metadata": {},
     "output_type": "display_data"
    },
    {
     "data": {
      "application/vnd.jupyter.widget-view+json": {
       "model_id": "",
       "version_major": 2,
       "version_minor": 0
      },
      "text/plain": [
       "Epoch 4:   0%|          | 0/21000 [00:00<?, ?it/s]"
      ]
     },
     "metadata": {},
     "output_type": "display_data"
    },
    {
     "data": {
      "application/vnd.jupyter.widget-view+json": {
       "model_id": "",
       "version_major": 2,
       "version_minor": 0
      },
      "text/plain": [
       "Epoch 5:   0%|          | 0/21000 [00:00<?, ?it/s]"
      ]
     },
     "metadata": {},
     "output_type": "display_data"
    },
    {
     "data": {
      "application/vnd.jupyter.widget-view+json": {
       "model_id": "",
       "version_major": 2,
       "version_minor": 0
      },
      "text/plain": [
       "Epoch 6:   0%|          | 0/21000 [00:00<?, ?it/s]"
      ]
     },
     "metadata": {},
     "output_type": "display_data"
    },
    {
     "data": {
      "application/vnd.jupyter.widget-view+json": {
       "model_id": "",
       "version_major": 2,
       "version_minor": 0
      },
      "text/plain": [
       "Epoch 7:   0%|          | 0/21000 [00:00<?, ?it/s]"
      ]
     },
     "metadata": {},
     "output_type": "display_data"
    },
    {
     "data": {
      "application/vnd.jupyter.widget-view+json": {
       "model_id": "",
       "version_major": 2,
       "version_minor": 0
      },
      "text/plain": [
       "Epoch 8:   0%|          | 0/21000 [00:00<?, ?it/s]"
      ]
     },
     "metadata": {},
     "output_type": "display_data"
    },
    {
     "data": {
      "application/vnd.jupyter.widget-view+json": {
       "model_id": "",
       "version_major": 2,
       "version_minor": 0
      },
      "text/plain": [
       "Epoch 9:   0%|          | 0/21000 [00:00<?, ?it/s]"
      ]
     },
     "metadata": {},
     "output_type": "display_data"
    },
    {
     "data": {
      "application/vnd.jupyter.widget-view+json": {
       "model_id": "",
       "version_major": 2,
       "version_minor": 0
      },
      "text/plain": [
       "Epoch 10:   0%|          | 0/21000 [00:00<?, ?it/s]"
      ]
     },
     "metadata": {},
     "output_type": "display_data"
    },
    {
     "data": {
      "application/vnd.jupyter.widget-view+json": {
       "model_id": "",
       "version_major": 2,
       "version_minor": 0
      },
      "text/plain": [
       "Epoch 11:   0%|          | 0/21000 [00:00<?, ?it/s]"
      ]
     },
     "metadata": {},
     "output_type": "display_data"
    },
    {
     "data": {
      "application/vnd.jupyter.widget-view+json": {
       "model_id": "",
       "version_major": 2,
       "version_minor": 0
      },
      "text/plain": [
       "Epoch 12:   0%|          | 0/21000 [00:00<?, ?it/s]"
      ]
     },
     "metadata": {},
     "output_type": "display_data"
    },
    {
     "data": {
      "application/vnd.jupyter.widget-view+json": {
       "model_id": "",
       "version_major": 2,
       "version_minor": 0
      },
      "text/plain": [
       "Epoch 13:   0%|          | 0/21000 [00:00<?, ?it/s]"
      ]
     },
     "metadata": {},
     "output_type": "display_data"
    },
    {
     "data": {
      "application/vnd.jupyter.widget-view+json": {
       "model_id": "",
       "version_major": 2,
       "version_minor": 0
      },
      "text/plain": [
       "Epoch 14:   0%|          | 0/21000 [00:00<?, ?it/s]"
      ]
     },
     "metadata": {},
     "output_type": "display_data"
    },
    {
     "data": {
      "application/vnd.jupyter.widget-view+json": {
       "model_id": "",
       "version_major": 2,
       "version_minor": 0
      },
      "text/plain": [
       "Epoch 15:   0%|          | 0/21000 [00:00<?, ?it/s]"
      ]
     },
     "metadata": {},
     "output_type": "display_data"
    },
    {
     "data": {
      "application/vnd.jupyter.widget-view+json": {
       "model_id": "",
       "version_major": 2,
       "version_minor": 0
      },
      "text/plain": [
       "Epoch 16:   0%|          | 0/21000 [00:00<?, ?it/s]"
      ]
     },
     "metadata": {},
     "output_type": "display_data"
    },
    {
     "data": {
      "application/vnd.jupyter.widget-view+json": {
       "model_id": "",
       "version_major": 2,
       "version_minor": 0
      },
      "text/plain": [
       "Epoch 17:   0%|          | 0/21000 [00:00<?, ?it/s]"
      ]
     },
     "metadata": {},
     "output_type": "display_data"
    },
    {
     "data": {
      "application/vnd.jupyter.widget-view+json": {
       "model_id": "",
       "version_major": 2,
       "version_minor": 0
      },
      "text/plain": [
       "Epoch 18:   0%|          | 0/21000 [00:00<?, ?it/s]"
      ]
     },
     "metadata": {},
     "output_type": "display_data"
    },
    {
     "data": {
      "application/vnd.jupyter.widget-view+json": {
       "model_id": "",
       "version_major": 2,
       "version_minor": 0
      },
      "text/plain": [
       "Epoch 19:   0%|          | 0/21000 [00:00<?, ?it/s]"
      ]
     },
     "metadata": {},
     "output_type": "display_data"
    },
    {
     "data": {
      "application/vnd.jupyter.widget-view+json": {
       "model_id": "",
       "version_major": 2,
       "version_minor": 0
      },
      "text/plain": [
       "Epoch 20:   0%|          | 0/21000 [00:00<?, ?it/s]"
      ]
     },
     "metadata": {},
     "output_type": "display_data"
    },
    {
     "data": {
      "application/vnd.jupyter.widget-view+json": {
       "model_id": "",
       "version_major": 2,
       "version_minor": 0
      },
      "text/plain": [
       "Epoch 21:   0%|          | 0/21000 [00:00<?, ?it/s]"
      ]
     },
     "metadata": {},
     "output_type": "display_data"
    },
    {
     "data": {
      "application/vnd.jupyter.widget-view+json": {
       "model_id": "",
       "version_major": 2,
       "version_minor": 0
      },
      "text/plain": [
       "Epoch 22:   0%|          | 0/21000 [00:00<?, ?it/s]"
      ]
     },
     "metadata": {},
     "output_type": "display_data"
    },
    {
     "data": {
      "application/vnd.jupyter.widget-view+json": {
       "model_id": "",
       "version_major": 2,
       "version_minor": 0
      },
      "text/plain": [
       "Epoch 23:   0%|          | 0/21000 [00:00<?, ?it/s]"
      ]
     },
     "metadata": {},
     "output_type": "display_data"
    },
    {
     "data": {
      "application/vnd.jupyter.widget-view+json": {
       "model_id": "",
       "version_major": 2,
       "version_minor": 0
      },
      "text/plain": [
       "Epoch 24:   0%|          | 0/21000 [00:00<?, ?it/s]"
      ]
     },
     "metadata": {},
     "output_type": "display_data"
    },
    {
     "data": {
      "application/vnd.jupyter.widget-view+json": {
       "model_id": "",
       "version_major": 2,
       "version_minor": 0
      },
      "text/plain": [
       "Epoch 25:   0%|          | 0/21000 [00:00<?, ?it/s]"
      ]
     },
     "metadata": {},
     "output_type": "display_data"
    },
    {
     "data": {
      "application/vnd.jupyter.widget-view+json": {
       "model_id": "",
       "version_major": 2,
       "version_minor": 0
      },
      "text/plain": [
       "Epoch 26:   0%|          | 0/21000 [00:00<?, ?it/s]"
      ]
     },
     "metadata": {},
     "output_type": "display_data"
    },
    {
     "data": {
      "application/vnd.jupyter.widget-view+json": {
       "model_id": "",
       "version_major": 2,
       "version_minor": 0
      },
      "text/plain": [
       "Epoch 27:   0%|          | 0/21000 [00:00<?, ?it/s]"
      ]
     },
     "metadata": {},
     "output_type": "display_data"
    },
    {
     "data": {
      "application/vnd.jupyter.widget-view+json": {
       "model_id": "",
       "version_major": 2,
       "version_minor": 0
      },
      "text/plain": [
       "Epoch 28:   0%|          | 0/21000 [00:00<?, ?it/s]"
      ]
     },
     "metadata": {},
     "output_type": "display_data"
    },
    {
     "data": {
      "application/vnd.jupyter.widget-view+json": {
       "model_id": "",
       "version_major": 2,
       "version_minor": 0
      },
      "text/plain": [
       "Epoch 29:   0%|          | 0/21000 [00:00<?, ?it/s]"
      ]
     },
     "metadata": {},
     "output_type": "display_data"
    },
    {
     "data": {
      "application/vnd.jupyter.widget-view+json": {
       "model_id": "",
       "version_major": 2,
       "version_minor": 0
      },
      "text/plain": [
       "Epoch 30:   0%|          | 0/21000 [00:00<?, ?it/s]"
      ]
     },
     "metadata": {},
     "output_type": "display_data"
    },
    {
     "data": {
      "application/vnd.jupyter.widget-view+json": {
       "model_id": "",
       "version_major": 2,
       "version_minor": 0
      },
      "text/plain": [
       "Epoch 31:   0%|          | 0/21000 [00:00<?, ?it/s]"
      ]
     },
     "metadata": {},
     "output_type": "display_data"
    },
    {
     "data": {
      "application/vnd.jupyter.widget-view+json": {
       "model_id": "",
       "version_major": 2,
       "version_minor": 0
      },
      "text/plain": [
       "Epoch 32:   0%|          | 0/21000 [00:00<?, ?it/s]"
      ]
     },
     "metadata": {},
     "output_type": "display_data"
    },
    {
     "data": {
      "application/vnd.jupyter.widget-view+json": {
       "model_id": "",
       "version_major": 2,
       "version_minor": 0
      },
      "text/plain": [
       "Epoch 33:   0%|          | 0/21000 [00:00<?, ?it/s]"
      ]
     },
     "metadata": {},
     "output_type": "display_data"
    },
    {
     "data": {
      "application/vnd.jupyter.widget-view+json": {
       "model_id": "",
       "version_major": 2,
       "version_minor": 0
      },
      "text/plain": [
       "Epoch 34:   0%|          | 0/21000 [00:00<?, ?it/s]"
      ]
     },
     "metadata": {},
     "output_type": "display_data"
    },
    {
     "data": {
      "application/vnd.jupyter.widget-view+json": {
       "model_id": "",
       "version_major": 2,
       "version_minor": 0
      },
      "text/plain": [
       "Epoch 35:   0%|          | 0/21000 [00:00<?, ?it/s]"
      ]
     },
     "metadata": {},
     "output_type": "display_data"
    },
    {
     "data": {
      "application/vnd.jupyter.widget-view+json": {
       "model_id": "",
       "version_major": 2,
       "version_minor": 0
      },
      "text/plain": [
       "Epoch 36:   0%|          | 0/21000 [00:00<?, ?it/s]"
      ]
     },
     "metadata": {},
     "output_type": "display_data"
    },
    {
     "data": {
      "application/vnd.jupyter.widget-view+json": {
       "model_id": "",
       "version_major": 2,
       "version_minor": 0
      },
      "text/plain": [
       "Epoch 37:   0%|          | 0/21000 [00:00<?, ?it/s]"
      ]
     },
     "metadata": {},
     "output_type": "display_data"
    },
    {
     "data": {
      "application/vnd.jupyter.widget-view+json": {
       "model_id": "",
       "version_major": 2,
       "version_minor": 0
      },
      "text/plain": [
       "Epoch 38:   0%|          | 0/21000 [00:00<?, ?it/s]"
      ]
     },
     "metadata": {},
     "output_type": "display_data"
    },
    {
     "data": {
      "application/vnd.jupyter.widget-view+json": {
       "model_id": "",
       "version_major": 2,
       "version_minor": 0
      },
      "text/plain": [
       "Epoch 39:   0%|          | 0/21000 [00:00<?, ?it/s]"
      ]
     },
     "metadata": {},
     "output_type": "display_data"
    },
    {
     "data": {
      "application/vnd.jupyter.widget-view+json": {
       "model_id": "",
       "version_major": 2,
       "version_minor": 0
      },
      "text/plain": [
       "Epoch 40:   0%|          | 0/21000 [00:00<?, ?it/s]"
      ]
     },
     "metadata": {},
     "output_type": "display_data"
    },
    {
     "data": {
      "application/vnd.jupyter.widget-view+json": {
       "model_id": "",
       "version_major": 2,
       "version_minor": 0
      },
      "text/plain": [
       "Epoch 41:   0%|          | 0/21000 [00:00<?, ?it/s]"
      ]
     },
     "metadata": {},
     "output_type": "display_data"
    },
    {
     "data": {
      "application/vnd.jupyter.widget-view+json": {
       "model_id": "",
       "version_major": 2,
       "version_minor": 0
      },
      "text/plain": [
       "Epoch 42:   0%|          | 0/21000 [00:00<?, ?it/s]"
      ]
     },
     "metadata": {},
     "output_type": "display_data"
    },
    {
     "data": {
      "application/vnd.jupyter.widget-view+json": {
       "model_id": "",
       "version_major": 2,
       "version_minor": 0
      },
      "text/plain": [
       "Epoch 43:   0%|          | 0/21000 [00:00<?, ?it/s]"
      ]
     },
     "metadata": {},
     "output_type": "display_data"
    },
    {
     "data": {
      "application/vnd.jupyter.widget-view+json": {
       "model_id": "",
       "version_major": 2,
       "version_minor": 0
      },
      "text/plain": [
       "Epoch 44:   0%|          | 0/21000 [00:00<?, ?it/s]"
      ]
     },
     "metadata": {},
     "output_type": "display_data"
    },
    {
     "data": {
      "application/vnd.jupyter.widget-view+json": {
       "model_id": "",
       "version_major": 2,
       "version_minor": 0
      },
      "text/plain": [
       "Epoch 45:   0%|          | 0/21000 [00:00<?, ?it/s]"
      ]
     },
     "metadata": {},
     "output_type": "display_data"
    },
    {
     "data": {
      "application/vnd.jupyter.widget-view+json": {
       "model_id": "",
       "version_major": 2,
       "version_minor": 0
      },
      "text/plain": [
       "Epoch 46:   0%|          | 0/21000 [00:00<?, ?it/s]"
      ]
     },
     "metadata": {},
     "output_type": "display_data"
    },
    {
     "data": {
      "application/vnd.jupyter.widget-view+json": {
       "model_id": "",
       "version_major": 2,
       "version_minor": 0
      },
      "text/plain": [
       "Epoch 47:   0%|          | 0/21000 [00:00<?, ?it/s]"
      ]
     },
     "metadata": {},
     "output_type": "display_data"
    },
    {
     "data": {
      "application/vnd.jupyter.widget-view+json": {
       "model_id": "",
       "version_major": 2,
       "version_minor": 0
      },
      "text/plain": [
       "Epoch 48:   0%|          | 0/21000 [00:00<?, ?it/s]"
      ]
     },
     "metadata": {},
     "output_type": "display_data"
    },
    {
     "data": {
      "application/vnd.jupyter.widget-view+json": {
       "model_id": "",
       "version_major": 2,
       "version_minor": 0
      },
      "text/plain": [
       "Epoch 49:   0%|          | 0/21000 [00:00<?, ?it/s]"
      ]
     },
     "metadata": {},
     "output_type": "display_data"
    },
    {
     "data": {
      "application/vnd.jupyter.widget-view+json": {
       "model_id": "",
       "version_major": 2,
       "version_minor": 0
      },
      "text/plain": [
       "Epoch 50:   0%|          | 0/21000 [00:00<?, ?it/s]"
      ]
     },
     "metadata": {},
     "output_type": "display_data"
    },
    {
     "data": {
      "application/vnd.jupyter.widget-view+json": {
       "model_id": "",
       "version_major": 2,
       "version_minor": 0
      },
      "text/plain": [
       "Epoch 51:   0%|          | 0/21000 [00:00<?, ?it/s]"
      ]
     },
     "metadata": {},
     "output_type": "display_data"
    },
    {
     "data": {
      "application/vnd.jupyter.widget-view+json": {
       "model_id": "",
       "version_major": 2,
       "version_minor": 0
      },
      "text/plain": [
       "Epoch 52:   0%|          | 0/21000 [00:00<?, ?it/s]"
      ]
     },
     "metadata": {},
     "output_type": "display_data"
    },
    {
     "data": {
      "application/vnd.jupyter.widget-view+json": {
       "model_id": "",
       "version_major": 2,
       "version_minor": 0
      },
      "text/plain": [
       "Epoch 53:   0%|          | 0/21000 [00:00<?, ?it/s]"
      ]
     },
     "metadata": {},
     "output_type": "display_data"
    },
    {
     "data": {
      "application/vnd.jupyter.widget-view+json": {
       "model_id": "",
       "version_major": 2,
       "version_minor": 0
      },
      "text/plain": [
       "Epoch 54:   0%|          | 0/21000 [00:00<?, ?it/s]"
      ]
     },
     "metadata": {},
     "output_type": "display_data"
    },
    {
     "data": {
      "application/vnd.jupyter.widget-view+json": {
       "model_id": "",
       "version_major": 2,
       "version_minor": 0
      },
      "text/plain": [
       "Epoch 55:   0%|          | 0/21000 [00:00<?, ?it/s]"
      ]
     },
     "metadata": {},
     "output_type": "display_data"
    },
    {
     "data": {
      "application/vnd.jupyter.widget-view+json": {
       "model_id": "",
       "version_major": 2,
       "version_minor": 0
      },
      "text/plain": [
       "Epoch 56:   0%|          | 0/21000 [00:00<?, ?it/s]"
      ]
     },
     "metadata": {},
     "output_type": "display_data"
    },
    {
     "data": {
      "application/vnd.jupyter.widget-view+json": {
       "model_id": "",
       "version_major": 2,
       "version_minor": 0
      },
      "text/plain": [
       "Epoch 57:   0%|          | 0/21000 [00:00<?, ?it/s]"
      ]
     },
     "metadata": {},
     "output_type": "display_data"
    },
    {
     "data": {
      "application/vnd.jupyter.widget-view+json": {
       "model_id": "",
       "version_major": 2,
       "version_minor": 0
      },
      "text/plain": [
       "Epoch 58:   0%|          | 0/21000 [00:00<?, ?it/s]"
      ]
     },
     "metadata": {},
     "output_type": "display_data"
    },
    {
     "data": {
      "application/vnd.jupyter.widget-view+json": {
       "model_id": "",
       "version_major": 2,
       "version_minor": 0
      },
      "text/plain": [
       "Epoch 59:   0%|          | 0/21000 [00:00<?, ?it/s]"
      ]
     },
     "metadata": {},
     "output_type": "display_data"
    },
    {
     "data": {
      "application/vnd.jupyter.widget-view+json": {
       "model_id": "",
       "version_major": 2,
       "version_minor": 0
      },
      "text/plain": [
       "Epoch 60:   0%|          | 0/21000 [00:00<?, ?it/s]"
      ]
     },
     "metadata": {},
     "output_type": "display_data"
    },
    {
     "data": {
      "application/vnd.jupyter.widget-view+json": {
       "model_id": "",
       "version_major": 2,
       "version_minor": 0
      },
      "text/plain": [
       "Epoch 61:   0%|          | 0/21000 [00:00<?, ?it/s]"
      ]
     },
     "metadata": {},
     "output_type": "display_data"
    },
    {
     "data": {
      "application/vnd.jupyter.widget-view+json": {
       "model_id": "",
       "version_major": 2,
       "version_minor": 0
      },
      "text/plain": [
       "Epoch 62:   0%|          | 0/21000 [00:00<?, ?it/s]"
      ]
     },
     "metadata": {},
     "output_type": "display_data"
    },
    {
     "data": {
      "application/vnd.jupyter.widget-view+json": {
       "model_id": "",
       "version_major": 2,
       "version_minor": 0
      },
      "text/plain": [
       "Epoch 63:   0%|          | 0/21000 [00:00<?, ?it/s]"
      ]
     },
     "metadata": {},
     "output_type": "display_data"
    },
    {
     "data": {
      "application/vnd.jupyter.widget-view+json": {
       "model_id": "",
       "version_major": 2,
       "version_minor": 0
      },
      "text/plain": [
       "Epoch 64:   0%|          | 0/21000 [00:00<?, ?it/s]"
      ]
     },
     "metadata": {},
     "output_type": "display_data"
    },
    {
     "data": {
      "application/vnd.jupyter.widget-view+json": {
       "model_id": "",
       "version_major": 2,
       "version_minor": 0
      },
      "text/plain": [
       "Epoch 65:   0%|          | 0/21000 [00:00<?, ?it/s]"
      ]
     },
     "metadata": {},
     "output_type": "display_data"
    },
    {
     "data": {
      "application/vnd.jupyter.widget-view+json": {
       "model_id": "",
       "version_major": 2,
       "version_minor": 0
      },
      "text/plain": [
       "Epoch 66:   0%|          | 0/21000 [00:00<?, ?it/s]"
      ]
     },
     "metadata": {},
     "output_type": "display_data"
    },
    {
     "data": {
      "application/vnd.jupyter.widget-view+json": {
       "model_id": "",
       "version_major": 2,
       "version_minor": 0
      },
      "text/plain": [
       "Epoch 67:   0%|          | 0/21000 [00:00<?, ?it/s]"
      ]
     },
     "metadata": {},
     "output_type": "display_data"
    },
    {
     "data": {
      "application/vnd.jupyter.widget-view+json": {
       "model_id": "",
       "version_major": 2,
       "version_minor": 0
      },
      "text/plain": [
       "Epoch 68:   0%|          | 0/21000 [00:00<?, ?it/s]"
      ]
     },
     "metadata": {},
     "output_type": "display_data"
    },
    {
     "data": {
      "application/vnd.jupyter.widget-view+json": {
       "model_id": "",
       "version_major": 2,
       "version_minor": 0
      },
      "text/plain": [
       "Epoch 69:   0%|          | 0/21000 [00:00<?, ?it/s]"
      ]
     },
     "metadata": {},
     "output_type": "display_data"
    },
    {
     "data": {
      "application/vnd.jupyter.widget-view+json": {
       "model_id": "",
       "version_major": 2,
       "version_minor": 0
      },
      "text/plain": [
       "Epoch 70:   0%|          | 0/21000 [00:00<?, ?it/s]"
      ]
     },
     "metadata": {},
     "output_type": "display_data"
    },
    {
     "data": {
      "application/vnd.jupyter.widget-view+json": {
       "model_id": "",
       "version_major": 2,
       "version_minor": 0
      },
      "text/plain": [
       "Epoch 71:   0%|          | 0/21000 [00:00<?, ?it/s]"
      ]
     },
     "metadata": {},
     "output_type": "display_data"
    },
    {
     "data": {
      "application/vnd.jupyter.widget-view+json": {
       "model_id": "",
       "version_major": 2,
       "version_minor": 0
      },
      "text/plain": [
       "Epoch 72:   0%|          | 0/21000 [00:00<?, ?it/s]"
      ]
     },
     "metadata": {},
     "output_type": "display_data"
    },
    {
     "data": {
      "application/vnd.jupyter.widget-view+json": {
       "model_id": "",
       "version_major": 2,
       "version_minor": 0
      },
      "text/plain": [
       "Epoch 73:   0%|          | 0/21000 [00:00<?, ?it/s]"
      ]
     },
     "metadata": {},
     "output_type": "display_data"
    },
    {
     "data": {
      "application/vnd.jupyter.widget-view+json": {
       "model_id": "",
       "version_major": 2,
       "version_minor": 0
      },
      "text/plain": [
       "Epoch 74:   0%|          | 0/21000 [00:00<?, ?it/s]"
      ]
     },
     "metadata": {},
     "output_type": "display_data"
    },
    {
     "data": {
      "application/vnd.jupyter.widget-view+json": {
       "model_id": "",
       "version_major": 2,
       "version_minor": 0
      },
      "text/plain": [
       "Epoch 75:   0%|          | 0/21000 [00:00<?, ?it/s]"
      ]
     },
     "metadata": {},
     "output_type": "display_data"
    },
    {
     "data": {
      "application/vnd.jupyter.widget-view+json": {
       "model_id": "",
       "version_major": 2,
       "version_minor": 0
      },
      "text/plain": [
       "Epoch 76:   0%|          | 0/21000 [00:00<?, ?it/s]"
      ]
     },
     "metadata": {},
     "output_type": "display_data"
    },
    {
     "data": {
      "application/vnd.jupyter.widget-view+json": {
       "model_id": "",
       "version_major": 2,
       "version_minor": 0
      },
      "text/plain": [
       "Epoch 77:   0%|          | 0/21000 [00:00<?, ?it/s]"
      ]
     },
     "metadata": {},
     "output_type": "display_data"
    },
    {
     "data": {
      "application/vnd.jupyter.widget-view+json": {
       "model_id": "",
       "version_major": 2,
       "version_minor": 0
      },
      "text/plain": [
       "Epoch 78:   0%|          | 0/21000 [00:00<?, ?it/s]"
      ]
     },
     "metadata": {},
     "output_type": "display_data"
    },
    {
     "data": {
      "application/vnd.jupyter.widget-view+json": {
       "model_id": "",
       "version_major": 2,
       "version_minor": 0
      },
      "text/plain": [
       "Epoch 79:   0%|          | 0/21000 [00:00<?, ?it/s]"
      ]
     },
     "metadata": {},
     "output_type": "display_data"
    },
    {
     "data": {
      "application/vnd.jupyter.widget-view+json": {
       "model_id": "",
       "version_major": 2,
       "version_minor": 0
      },
      "text/plain": [
       "Epoch 80:   0%|          | 0/21000 [00:00<?, ?it/s]"
      ]
     },
     "metadata": {},
     "output_type": "display_data"
    },
    {
     "data": {
      "application/vnd.jupyter.widget-view+json": {
       "model_id": "",
       "version_major": 2,
       "version_minor": 0
      },
      "text/plain": [
       "Epoch 81:   0%|          | 0/21000 [00:00<?, ?it/s]"
      ]
     },
     "metadata": {},
     "output_type": "display_data"
    },
    {
     "data": {
      "application/vnd.jupyter.widget-view+json": {
       "model_id": "",
       "version_major": 2,
       "version_minor": 0
      },
      "text/plain": [
       "Epoch 82:   0%|          | 0/21000 [00:00<?, ?it/s]"
      ]
     },
     "metadata": {},
     "output_type": "display_data"
    },
    {
     "data": {
      "application/vnd.jupyter.widget-view+json": {
       "model_id": "",
       "version_major": 2,
       "version_minor": 0
      },
      "text/plain": [
       "Epoch 83:   0%|          | 0/21000 [00:00<?, ?it/s]"
      ]
     },
     "metadata": {},
     "output_type": "display_data"
    },
    {
     "data": {
      "application/vnd.jupyter.widget-view+json": {
       "model_id": "",
       "version_major": 2,
       "version_minor": 0
      },
      "text/plain": [
       "Epoch 84:   0%|          | 0/21000 [00:00<?, ?it/s]"
      ]
     },
     "metadata": {},
     "output_type": "display_data"
    },
    {
     "data": {
      "application/vnd.jupyter.widget-view+json": {
       "model_id": "",
       "version_major": 2,
       "version_minor": 0
      },
      "text/plain": [
       "Epoch 85:   0%|          | 0/21000 [00:00<?, ?it/s]"
      ]
     },
     "metadata": {},
     "output_type": "display_data"
    },
    {
     "data": {
      "application/vnd.jupyter.widget-view+json": {
       "model_id": "",
       "version_major": 2,
       "version_minor": 0
      },
      "text/plain": [
       "Epoch 86:   0%|          | 0/21000 [00:00<?, ?it/s]"
      ]
     },
     "metadata": {},
     "output_type": "display_data"
    },
    {
     "data": {
      "application/vnd.jupyter.widget-view+json": {
       "model_id": "",
       "version_major": 2,
       "version_minor": 0
      },
      "text/plain": [
       "Epoch 87:   0%|          | 0/21000 [00:00<?, ?it/s]"
      ]
     },
     "metadata": {},
     "output_type": "display_data"
    },
    {
     "data": {
      "application/vnd.jupyter.widget-view+json": {
       "model_id": "",
       "version_major": 2,
       "version_minor": 0
      },
      "text/plain": [
       "Epoch 88:   0%|          | 0/21000 [00:00<?, ?it/s]"
      ]
     },
     "metadata": {},
     "output_type": "display_data"
    },
    {
     "data": {
      "application/vnd.jupyter.widget-view+json": {
       "model_id": "",
       "version_major": 2,
       "version_minor": 0
      },
      "text/plain": [
       "Epoch 89:   0%|          | 0/21000 [00:00<?, ?it/s]"
      ]
     },
     "metadata": {},
     "output_type": "display_data"
    },
    {
     "data": {
      "application/vnd.jupyter.widget-view+json": {
       "model_id": "",
       "version_major": 2,
       "version_minor": 0
      },
      "text/plain": [
       "Epoch 90:   0%|          | 0/21000 [00:00<?, ?it/s]"
      ]
     },
     "metadata": {},
     "output_type": "display_data"
    },
    {
     "data": {
      "application/vnd.jupyter.widget-view+json": {
       "model_id": "",
       "version_major": 2,
       "version_minor": 0
      },
      "text/plain": [
       "Epoch 91:   0%|          | 0/21000 [00:00<?, ?it/s]"
      ]
     },
     "metadata": {},
     "output_type": "display_data"
    },
    {
     "data": {
      "application/vnd.jupyter.widget-view+json": {
       "model_id": "",
       "version_major": 2,
       "version_minor": 0
      },
      "text/plain": [
       "Epoch 92:   0%|          | 0/21000 [00:00<?, ?it/s]"
      ]
     },
     "metadata": {},
     "output_type": "display_data"
    },
    {
     "data": {
      "application/vnd.jupyter.widget-view+json": {
       "model_id": "",
       "version_major": 2,
       "version_minor": 0
      },
      "text/plain": [
       "Epoch 93:   0%|          | 0/21000 [00:00<?, ?it/s]"
      ]
     },
     "metadata": {},
     "output_type": "display_data"
    },
    {
     "data": {
      "application/vnd.jupyter.widget-view+json": {
       "model_id": "",
       "version_major": 2,
       "version_minor": 0
      },
      "text/plain": [
       "Epoch 94:   0%|          | 0/21000 [00:00<?, ?it/s]"
      ]
     },
     "metadata": {},
     "output_type": "display_data"
    },
    {
     "data": {
      "application/vnd.jupyter.widget-view+json": {
       "model_id": "",
       "version_major": 2,
       "version_minor": 0
      },
      "text/plain": [
       "Epoch 95:   0%|          | 0/21000 [00:00<?, ?it/s]"
      ]
     },
     "metadata": {},
     "output_type": "display_data"
    },
    {
     "data": {
      "application/vnd.jupyter.widget-view+json": {
       "model_id": "",
       "version_major": 2,
       "version_minor": 0
      },
      "text/plain": [
       "Epoch 96:   0%|          | 0/21000 [00:00<?, ?it/s]"
      ]
     },
     "metadata": {},
     "output_type": "display_data"
    },
    {
     "data": {
      "application/vnd.jupyter.widget-view+json": {
       "model_id": "",
       "version_major": 2,
       "version_minor": 0
      },
      "text/plain": [
       "Epoch 97:   0%|          | 0/21000 [00:00<?, ?it/s]"
      ]
     },
     "metadata": {},
     "output_type": "display_data"
    },
    {
     "data": {
      "application/vnd.jupyter.widget-view+json": {
       "model_id": "",
       "version_major": 2,
       "version_minor": 0
      },
      "text/plain": [
       "Epoch 98:   0%|          | 0/21000 [00:00<?, ?it/s]"
      ]
     },
     "metadata": {},
     "output_type": "display_data"
    },
    {
     "data": {
      "application/vnd.jupyter.widget-view+json": {
       "model_id": "",
       "version_major": 2,
       "version_minor": 0
      },
      "text/plain": [
       "Epoch 99:   0%|          | 0/21000 [00:00<?, ?it/s]"
      ]
     },
     "metadata": {},
     "output_type": "display_data"
    }
   ],
   "source": [
    "# 分割数据\n",
    "X_train, X_test, y_train, y_test = train_test_split(X_encoded, y)\n",
    "\n",
    "# ce.get_embeddings trains NN, extracts embeddings and return a dictionary containing the embeddings\n",
    "embeddings = ce.get_embeddings(X_train, y_train, categorical_embedding_info=embedding_info, is_classification=True,\n",
    "                               epochs=100, batch_size=256)"
   ]
  },
  {
   "cell_type": "code",
   "execution_count": 9,
   "id": "9bd125f6",
   "metadata": {},
   "outputs": [
    {
     "data": {
      "text/plain": [
       "{'tradeTime': array([[-2.7953753,  2.8196225, -2.8119745, ...,  2.819222 ,  2.795289 ,\n",
       "          2.7749248],\n",
       "        [-4.317521 ,  4.2907257, -4.3178368, ...,  4.314686 ,  4.290268 ,\n",
       "          4.261467 ],\n",
       "        [-4.2639294,  4.2675376, -4.205001 , ...,  4.2600117,  4.3015914,\n",
       "          4.287869 ],\n",
       "        ...,\n",
       "        [-6.2244225,  6.274782 , -6.2770433, ...,  6.226404 ,  6.31681  ,\n",
       "          6.276836 ],\n",
       "        [-5.2048655,  5.137553 , -5.1570883, ...,  5.2160397,  5.2303777,\n",
       "          5.1994643],\n",
       "        [-5.4082875,  5.4080396, -5.4242797, ...,  5.4359775,  5.471535 ,\n",
       "          5.4262176]], dtype=float32),\n",
       " 'registerDate': array([[ 1.3858063,  1.3475266, -1.3975576, ...,  1.3160911,  1.3811802,\n",
       "          1.4118932],\n",
       "        [ 1.4012289,  1.3999584, -1.4110327, ...,  1.3889124,  1.3211637,\n",
       "          1.3760346],\n",
       "        [ 1.3142023,  1.3362013, -1.3991772, ...,  1.3210043,  1.3485087,\n",
       "          1.4045192],\n",
       "        ...,\n",
       "        [ 2.4911885,  2.468034 , -2.5074015, ...,  2.4440322,  2.4584084,\n",
       "          2.4471204],\n",
       "        [ 1.3999442,  1.3745205, -1.3580588, ...,  1.3632549,  1.4095415,\n",
       "          1.4295765],\n",
       "        [ 1.3973558,  1.4023122, -1.3214828, ...,  1.3197626,  1.3488115,\n",
       "          1.3635409]], dtype=float32),\n",
       " 'licenseDate': array([[ 1.3953581 , -1.3224648 , -1.3153505 , ...,  1.3893386 ,\n",
       "         -1.3477457 , -1.3729645 ],\n",
       "        [ 1.3567446 , -1.3691405 , -1.3505172 , ...,  1.3666332 ,\n",
       "         -1.3643256 , -1.4019742 ],\n",
       "        [-0.03712169,  0.02025494, -0.03772895, ...,  0.03898447,\n",
       "          0.00283325, -0.02428897],\n",
       "        ...,\n",
       "        [-0.03111566, -0.03590561,  0.01461455, ...,  0.04362107,\n",
       "         -0.02255529,  0.04490377],\n",
       "        [ 0.02765575, -0.01015259,  0.01969613, ...,  0.02285751,\n",
       "         -0.02713512, -0.02018704],\n",
       "        [ 1.346027  , -1.4125377 , -1.3585733 , ...,  1.3396541 ,\n",
       "         -1.3673679 , -1.34566   ]], dtype=float32),\n",
       " 'anonymousFeature7': array([[-1.3451273e+01,  1.3465025e+01,  1.3455828e+01, ...,\n",
       "          1.3470064e+01, -1.3443416e+01, -1.3451605e+01],\n",
       "        [-4.7517277e-02, -2.3584558e-02,  4.6382759e-02, ...,\n",
       "          3.4960736e-02,  2.5032703e-02,  2.6775789e-02],\n",
       "        [-1.3215148e+00,  1.3113058e+00,  1.3156400e+00, ...,\n",
       "          1.3136147e+00, -1.3166891e+00, -1.3632504e+00],\n",
       "        ...,\n",
       "        [-1.3571351e+00,  1.3990370e+00,  1.3173851e+00, ...,\n",
       "          1.3136590e+00, -1.4092373e+00, -1.4082537e+00],\n",
       "        [-1.2885499e+00,  1.2520342e+00,  1.2555244e+00, ...,\n",
       "          1.3159784e+00, -1.2425399e+00, -1.2941452e+00],\n",
       "        [ 1.7984595e-02,  6.4092651e-03, -2.1542121e-02, ...,\n",
       "         -4.7378708e-02,  4.5327917e-03,  1.6679775e-02]], dtype=float32),\n",
       " 'anonymousFeature11': array([[ 1.10226259e+01, -1.10568285e+01,  1.10579157e+01,\n",
       "         -1.10403404e+01],\n",
       "        [ 1.33196154e+01, -1.32875566e+01,  1.32512560e+01,\n",
       "         -1.32413225e+01],\n",
       "        [ 1.34681673e+01, -1.34348803e+01,  1.34465599e+01,\n",
       "         -1.34758816e+01],\n",
       "        [ 1.19626980e+01, -1.19734974e+01,  1.19627714e+01,\n",
       "         -1.19317913e+01],\n",
       "        [ 1.31840445e-02,  3.38327624e-02,  3.54709662e-02,\n",
       "          4.36050929e-02],\n",
       "        [ 1.30997553e+01, -1.30939083e+01,  1.30355396e+01,\n",
       "         -1.30992670e+01],\n",
       "        [ 1.34790981e+00, -1.31597614e+00,  1.33578968e+00,\n",
       "         -1.33692133e+00]], dtype=float32),\n",
       " 'anonymousFeature12': array([[ 1.9922067e+00,  1.9639802e+00,  2.0247412e+00, ...,\n",
       "         -1.9350605e+00, -2.0131130e+00, -1.9273980e+00],\n",
       "        [ 4.3263302e+00,  4.3512454e+00,  4.3174763e+00, ...,\n",
       "         -4.2970853e+00, -4.3573284e+00, -4.3354526e+00],\n",
       "        [ 1.3354630e+00,  1.3821566e+00,  1.3431244e+00, ...,\n",
       "         -1.3998001e+00, -1.3337243e+00, -1.3665668e+00],\n",
       "        ...,\n",
       "        [-3.5866499e-02, -4.7500245e-03, -4.2790413e-02, ...,\n",
       "         -2.3056615e-02, -4.3635108e-02,  6.5746158e-04],\n",
       "        [ 1.3478764e+00,  1.3415952e+00,  1.3728294e+00, ...,\n",
       "         -1.3873442e+00, -1.3566900e+00, -1.3729639e+00],\n",
       "        [ 3.1181192e+00,  3.0766985e+00,  3.1375008e+00, ...,\n",
       "         -3.1126747e+00, -3.0915577e+00, -3.1599989e+00]], dtype=float32),\n",
       " 'anonymousFeature15': array([[ 1.3462925e+01, -1.3478193e+01,  1.3505157e+01, ...,\n",
       "         -1.3463632e+01,  1.3473866e+01,  1.3490201e+01],\n",
       "        [ 1.3285979e+00, -1.3647864e+00,  1.3328846e+00, ...,\n",
       "         -1.3700608e+00,  1.3249770e+00,  1.3883711e+00],\n",
       "        [ 1.3299193e+00, -1.3614643e+00,  1.4127110e+00, ...,\n",
       "         -1.4150934e+00,  1.4102727e+00,  1.3428985e+00],\n",
       "        ...,\n",
       "        [ 1.3674214e+00, -1.3320503e+00,  1.3812323e+00, ...,\n",
       "         -1.3224937e+00,  1.4008191e+00,  1.3606145e+00],\n",
       "        [-1.4754422e-03,  9.8400190e-04,  6.9992170e-03, ...,\n",
       "          3.8825061e-02,  2.4826813e-02, -4.6990942e-02],\n",
       "        [ 1.5274081e+00, -1.5496795e+00,  1.4913976e+00, ...,\n",
       "         -1.5613689e+00,  1.5564077e+00,  1.5319327e+00]], dtype=float32)}"
      ]
     },
     "execution_count": 9,
     "metadata": {},
     "output_type": "execute_result"
    }
   ],
   "source": [
    "embeddings"
   ]
  },
  {
   "cell_type": "code",
   "execution_count": 10,
   "id": "59b7a907",
   "metadata": {},
   "outputs": [
    {
     "data": {
      "application/vnd.jupyter.widget-view+json": {
       "model_id": "b7a782fe6a454691815f7beddc292ad7",
       "version_major": 2,
       "version_minor": 0
      },
      "text/plain": [
       "  0%|          | 0/7 [00:00<?, ?it/s]"
      ]
     },
     "metadata": {},
     "output_type": "display_data"
    }
   ],
   "source": [
    "train_data_encoded = ce.get_embeddings_in_dataframe(embeddings = embeddings,encoders = encoders)"
   ]
  },
  {
   "cell_type": "code",
   "execution_count": 11,
   "id": "1dda39dc",
   "metadata": {},
   "outputs": [
    {
     "data": {
      "text/html": [
       "<div>\n",
       "<style scoped>\n",
       "    .dataframe tbody tr th:only-of-type {\n",
       "        vertical-align: middle;\n",
       "    }\n",
       "\n",
       "    .dataframe tbody tr th {\n",
       "        vertical-align: top;\n",
       "    }\n",
       "\n",
       "    .dataframe thead th {\n",
       "        text-align: right;\n",
       "    }\n",
       "</style>\n",
       "<table border=\"1\" class=\"dataframe\">\n",
       "  <thead>\n",
       "    <tr style=\"text-align: right;\">\n",
       "      <th></th>\n",
       "      <th>tradeTime_embedding_0</th>\n",
       "      <th>tradeTime_embedding_1</th>\n",
       "      <th>tradeTime_embedding_2</th>\n",
       "      <th>tradeTime_embedding_3</th>\n",
       "      <th>tradeTime_embedding_4</th>\n",
       "      <th>tradeTime_embedding_5</th>\n",
       "      <th>tradeTime_embedding_6</th>\n",
       "      <th>tradeTime_embedding_7</th>\n",
       "      <th>tradeTime_embedding_8</th>\n",
       "      <th>tradeTime_embedding_9</th>\n",
       "      <th>...</th>\n",
       "      <th>tradeTime_embedding_40</th>\n",
       "      <th>tradeTime_embedding_41</th>\n",
       "      <th>tradeTime_embedding_42</th>\n",
       "      <th>tradeTime_embedding_43</th>\n",
       "      <th>tradeTime_embedding_44</th>\n",
       "      <th>tradeTime_embedding_45</th>\n",
       "      <th>tradeTime_embedding_46</th>\n",
       "      <th>tradeTime_embedding_47</th>\n",
       "      <th>tradeTime_embedding_48</th>\n",
       "      <th>tradeTime_embedding_49</th>\n",
       "    </tr>\n",
       "  </thead>\n",
       "  <tbody>\n",
       "    <tr>\n",
       "      <th>2020/1/1</th>\n",
       "      <td>-2.795375</td>\n",
       "      <td>2.819623</td>\n",
       "      <td>-2.811975</td>\n",
       "      <td>-2.808209</td>\n",
       "      <td>2.800533</td>\n",
       "      <td>2.823267</td>\n",
       "      <td>-2.846039</td>\n",
       "      <td>2.849105</td>\n",
       "      <td>2.818124</td>\n",
       "      <td>-2.805276</td>\n",
       "      <td>...</td>\n",
       "      <td>-2.854001</td>\n",
       "      <td>2.770102</td>\n",
       "      <td>-2.820168</td>\n",
       "      <td>2.839991</td>\n",
       "      <td>-2.797694</td>\n",
       "      <td>-2.829575</td>\n",
       "      <td>2.797089</td>\n",
       "      <td>2.819222</td>\n",
       "      <td>2.795289</td>\n",
       "      <td>2.774925</td>\n",
       "    </tr>\n",
       "    <tr>\n",
       "      <th>2020/1/10</th>\n",
       "      <td>-4.317521</td>\n",
       "      <td>4.290726</td>\n",
       "      <td>-4.317837</td>\n",
       "      <td>-4.322490</td>\n",
       "      <td>4.291134</td>\n",
       "      <td>4.294250</td>\n",
       "      <td>-4.249851</td>\n",
       "      <td>4.328335</td>\n",
       "      <td>4.271351</td>\n",
       "      <td>-4.253001</td>\n",
       "      <td>...</td>\n",
       "      <td>-4.250378</td>\n",
       "      <td>4.290586</td>\n",
       "      <td>-4.255593</td>\n",
       "      <td>4.250992</td>\n",
       "      <td>-4.239377</td>\n",
       "      <td>-4.240359</td>\n",
       "      <td>4.324435</td>\n",
       "      <td>4.314686</td>\n",
       "      <td>4.290268</td>\n",
       "      <td>4.261467</td>\n",
       "    </tr>\n",
       "    <tr>\n",
       "      <th>2020/1/11</th>\n",
       "      <td>-4.263929</td>\n",
       "      <td>4.267538</td>\n",
       "      <td>-4.205001</td>\n",
       "      <td>-4.300253</td>\n",
       "      <td>4.289303</td>\n",
       "      <td>4.235409</td>\n",
       "      <td>-4.204054</td>\n",
       "      <td>4.232375</td>\n",
       "      <td>4.228931</td>\n",
       "      <td>-4.235854</td>\n",
       "      <td>...</td>\n",
       "      <td>-4.221120</td>\n",
       "      <td>4.288479</td>\n",
       "      <td>-4.275506</td>\n",
       "      <td>4.275586</td>\n",
       "      <td>-4.286389</td>\n",
       "      <td>-4.259864</td>\n",
       "      <td>4.207788</td>\n",
       "      <td>4.260012</td>\n",
       "      <td>4.301591</td>\n",
       "      <td>4.287869</td>\n",
       "    </tr>\n",
       "    <tr>\n",
       "      <th>2020/1/12</th>\n",
       "      <td>-4.365170</td>\n",
       "      <td>4.410783</td>\n",
       "      <td>-4.381144</td>\n",
       "      <td>-4.376383</td>\n",
       "      <td>4.403898</td>\n",
       "      <td>4.356318</td>\n",
       "      <td>-4.361753</td>\n",
       "      <td>4.354600</td>\n",
       "      <td>4.392757</td>\n",
       "      <td>-4.438703</td>\n",
       "      <td>...</td>\n",
       "      <td>-4.422056</td>\n",
       "      <td>4.374206</td>\n",
       "      <td>-4.403617</td>\n",
       "      <td>4.344091</td>\n",
       "      <td>-4.374018</td>\n",
       "      <td>-4.355794</td>\n",
       "      <td>4.347727</td>\n",
       "      <td>4.347612</td>\n",
       "      <td>4.397804</td>\n",
       "      <td>4.387970</td>\n",
       "    </tr>\n",
       "    <tr>\n",
       "      <th>2020/1/13</th>\n",
       "      <td>-3.310848</td>\n",
       "      <td>3.254492</td>\n",
       "      <td>-3.269339</td>\n",
       "      <td>-3.261480</td>\n",
       "      <td>3.258914</td>\n",
       "      <td>3.239386</td>\n",
       "      <td>-3.295339</td>\n",
       "      <td>3.276741</td>\n",
       "      <td>3.287254</td>\n",
       "      <td>-3.252850</td>\n",
       "      <td>...</td>\n",
       "      <td>-3.281953</td>\n",
       "      <td>3.229008</td>\n",
       "      <td>-3.329284</td>\n",
       "      <td>3.275736</td>\n",
       "      <td>-3.269723</td>\n",
       "      <td>-3.256707</td>\n",
       "      <td>3.295443</td>\n",
       "      <td>3.297295</td>\n",
       "      <td>3.273645</td>\n",
       "      <td>3.291085</td>\n",
       "    </tr>\n",
       "    <tr>\n",
       "      <th>...</th>\n",
       "      <td>...</td>\n",
       "      <td>...</td>\n",
       "      <td>...</td>\n",
       "      <td>...</td>\n",
       "      <td>...</td>\n",
       "      <td>...</td>\n",
       "      <td>...</td>\n",
       "      <td>...</td>\n",
       "      <td>...</td>\n",
       "      <td>...</td>\n",
       "      <td>...</td>\n",
       "      <td>...</td>\n",
       "      <td>...</td>\n",
       "      <td>...</td>\n",
       "      <td>...</td>\n",
       "      <td>...</td>\n",
       "      <td>...</td>\n",
       "      <td>...</td>\n",
       "      <td>...</td>\n",
       "      <td>...</td>\n",
       "      <td>...</td>\n",
       "    </tr>\n",
       "    <tr>\n",
       "      <th>2021/9/5</th>\n",
       "      <td>-5.716943</td>\n",
       "      <td>5.755322</td>\n",
       "      <td>-5.688557</td>\n",
       "      <td>-5.728567</td>\n",
       "      <td>5.760036</td>\n",
       "      <td>5.784210</td>\n",
       "      <td>-5.745849</td>\n",
       "      <td>5.786541</td>\n",
       "      <td>5.735513</td>\n",
       "      <td>-5.778637</td>\n",
       "      <td>...</td>\n",
       "      <td>-5.790246</td>\n",
       "      <td>5.702575</td>\n",
       "      <td>-5.751111</td>\n",
       "      <td>5.770620</td>\n",
       "      <td>-5.777793</td>\n",
       "      <td>-5.694810</td>\n",
       "      <td>5.741557</td>\n",
       "      <td>5.785418</td>\n",
       "      <td>5.767978</td>\n",
       "      <td>5.710990</td>\n",
       "    </tr>\n",
       "    <tr>\n",
       "      <th>2021/9/6</th>\n",
       "      <td>-6.412296</td>\n",
       "      <td>6.449572</td>\n",
       "      <td>-6.386394</td>\n",
       "      <td>-6.377770</td>\n",
       "      <td>6.417446</td>\n",
       "      <td>6.363235</td>\n",
       "      <td>-6.354682</td>\n",
       "      <td>6.357053</td>\n",
       "      <td>6.382372</td>\n",
       "      <td>-6.405718</td>\n",
       "      <td>...</td>\n",
       "      <td>-6.425656</td>\n",
       "      <td>6.401253</td>\n",
       "      <td>-6.445770</td>\n",
       "      <td>6.391811</td>\n",
       "      <td>-6.397356</td>\n",
       "      <td>-6.412768</td>\n",
       "      <td>6.425796</td>\n",
       "      <td>6.401430</td>\n",
       "      <td>6.358559</td>\n",
       "      <td>6.415920</td>\n",
       "    </tr>\n",
       "    <tr>\n",
       "      <th>2021/9/7</th>\n",
       "      <td>-6.224422</td>\n",
       "      <td>6.274782</td>\n",
       "      <td>-6.277043</td>\n",
       "      <td>-6.239089</td>\n",
       "      <td>6.267501</td>\n",
       "      <td>6.321920</td>\n",
       "      <td>-6.271574</td>\n",
       "      <td>6.317708</td>\n",
       "      <td>6.241437</td>\n",
       "      <td>-6.278219</td>\n",
       "      <td>...</td>\n",
       "      <td>-6.290853</td>\n",
       "      <td>6.277377</td>\n",
       "      <td>-6.239893</td>\n",
       "      <td>6.266316</td>\n",
       "      <td>-6.276702</td>\n",
       "      <td>-6.242121</td>\n",
       "      <td>6.252997</td>\n",
       "      <td>6.226404</td>\n",
       "      <td>6.316810</td>\n",
       "      <td>6.276836</td>\n",
       "    </tr>\n",
       "    <tr>\n",
       "      <th>2021/9/8</th>\n",
       "      <td>-5.204865</td>\n",
       "      <td>5.137553</td>\n",
       "      <td>-5.157088</td>\n",
       "      <td>-5.169534</td>\n",
       "      <td>5.131296</td>\n",
       "      <td>5.218737</td>\n",
       "      <td>-5.164563</td>\n",
       "      <td>5.174657</td>\n",
       "      <td>5.192889</td>\n",
       "      <td>-5.201501</td>\n",
       "      <td>...</td>\n",
       "      <td>-5.196457</td>\n",
       "      <td>5.224280</td>\n",
       "      <td>-5.221486</td>\n",
       "      <td>5.208110</td>\n",
       "      <td>-5.158416</td>\n",
       "      <td>-5.154804</td>\n",
       "      <td>5.167676</td>\n",
       "      <td>5.216040</td>\n",
       "      <td>5.230378</td>\n",
       "      <td>5.199464</td>\n",
       "    </tr>\n",
       "    <tr>\n",
       "      <th>2021/9/9</th>\n",
       "      <td>-5.408288</td>\n",
       "      <td>5.408040</td>\n",
       "      <td>-5.424280</td>\n",
       "      <td>-5.418580</td>\n",
       "      <td>5.463696</td>\n",
       "      <td>5.485492</td>\n",
       "      <td>-5.452627</td>\n",
       "      <td>5.427331</td>\n",
       "      <td>5.421824</td>\n",
       "      <td>-5.489641</td>\n",
       "      <td>...</td>\n",
       "      <td>-5.484445</td>\n",
       "      <td>5.477551</td>\n",
       "      <td>-5.498740</td>\n",
       "      <td>5.469535</td>\n",
       "      <td>-5.414953</td>\n",
       "      <td>-5.404446</td>\n",
       "      <td>5.477474</td>\n",
       "      <td>5.435977</td>\n",
       "      <td>5.471535</td>\n",
       "      <td>5.426218</td>\n",
       "    </tr>\n",
       "  </tbody>\n",
       "</table>\n",
       "<p>682 rows × 50 columns</p>\n",
       "</div>"
      ],
      "text/plain": [
       "           tradeTime_embedding_0  tradeTime_embedding_1  \\\n",
       "2020/1/1               -2.795375               2.819623   \n",
       "2020/1/10              -4.317521               4.290726   \n",
       "2020/1/11              -4.263929               4.267538   \n",
       "2020/1/12              -4.365170               4.410783   \n",
       "2020/1/13              -3.310848               3.254492   \n",
       "...                          ...                    ...   \n",
       "2021/9/5               -5.716943               5.755322   \n",
       "2021/9/6               -6.412296               6.449572   \n",
       "2021/9/7               -6.224422               6.274782   \n",
       "2021/9/8               -5.204865               5.137553   \n",
       "2021/9/9               -5.408288               5.408040   \n",
       "\n",
       "           tradeTime_embedding_2  tradeTime_embedding_3  \\\n",
       "2020/1/1               -2.811975              -2.808209   \n",
       "2020/1/10              -4.317837              -4.322490   \n",
       "2020/1/11              -4.205001              -4.300253   \n",
       "2020/1/12              -4.381144              -4.376383   \n",
       "2020/1/13              -3.269339              -3.261480   \n",
       "...                          ...                    ...   \n",
       "2021/9/5               -5.688557              -5.728567   \n",
       "2021/9/6               -6.386394              -6.377770   \n",
       "2021/9/7               -6.277043              -6.239089   \n",
       "2021/9/8               -5.157088              -5.169534   \n",
       "2021/9/9               -5.424280              -5.418580   \n",
       "\n",
       "           tradeTime_embedding_4  tradeTime_embedding_5  \\\n",
       "2020/1/1                2.800533               2.823267   \n",
       "2020/1/10               4.291134               4.294250   \n",
       "2020/1/11               4.289303               4.235409   \n",
       "2020/1/12               4.403898               4.356318   \n",
       "2020/1/13               3.258914               3.239386   \n",
       "...                          ...                    ...   \n",
       "2021/9/5                5.760036               5.784210   \n",
       "2021/9/6                6.417446               6.363235   \n",
       "2021/9/7                6.267501               6.321920   \n",
       "2021/9/8                5.131296               5.218737   \n",
       "2021/9/9                5.463696               5.485492   \n",
       "\n",
       "           tradeTime_embedding_6  tradeTime_embedding_7  \\\n",
       "2020/1/1               -2.846039               2.849105   \n",
       "2020/1/10              -4.249851               4.328335   \n",
       "2020/1/11              -4.204054               4.232375   \n",
       "2020/1/12              -4.361753               4.354600   \n",
       "2020/1/13              -3.295339               3.276741   \n",
       "...                          ...                    ...   \n",
       "2021/9/5               -5.745849               5.786541   \n",
       "2021/9/6               -6.354682               6.357053   \n",
       "2021/9/7               -6.271574               6.317708   \n",
       "2021/9/8               -5.164563               5.174657   \n",
       "2021/9/9               -5.452627               5.427331   \n",
       "\n",
       "           tradeTime_embedding_8  tradeTime_embedding_9  ...  \\\n",
       "2020/1/1                2.818124              -2.805276  ...   \n",
       "2020/1/10               4.271351              -4.253001  ...   \n",
       "2020/1/11               4.228931              -4.235854  ...   \n",
       "2020/1/12               4.392757              -4.438703  ...   \n",
       "2020/1/13               3.287254              -3.252850  ...   \n",
       "...                          ...                    ...  ...   \n",
       "2021/9/5                5.735513              -5.778637  ...   \n",
       "2021/9/6                6.382372              -6.405718  ...   \n",
       "2021/9/7                6.241437              -6.278219  ...   \n",
       "2021/9/8                5.192889              -5.201501  ...   \n",
       "2021/9/9                5.421824              -5.489641  ...   \n",
       "\n",
       "           tradeTime_embedding_40  tradeTime_embedding_41  \\\n",
       "2020/1/1                -2.854001                2.770102   \n",
       "2020/1/10               -4.250378                4.290586   \n",
       "2020/1/11               -4.221120                4.288479   \n",
       "2020/1/12               -4.422056                4.374206   \n",
       "2020/1/13               -3.281953                3.229008   \n",
       "...                           ...                     ...   \n",
       "2021/9/5                -5.790246                5.702575   \n",
       "2021/9/6                -6.425656                6.401253   \n",
       "2021/9/7                -6.290853                6.277377   \n",
       "2021/9/8                -5.196457                5.224280   \n",
       "2021/9/9                -5.484445                5.477551   \n",
       "\n",
       "           tradeTime_embedding_42  tradeTime_embedding_43  \\\n",
       "2020/1/1                -2.820168                2.839991   \n",
       "2020/1/10               -4.255593                4.250992   \n",
       "2020/1/11               -4.275506                4.275586   \n",
       "2020/1/12               -4.403617                4.344091   \n",
       "2020/1/13               -3.329284                3.275736   \n",
       "...                           ...                     ...   \n",
       "2021/9/5                -5.751111                5.770620   \n",
       "2021/9/6                -6.445770                6.391811   \n",
       "2021/9/7                -6.239893                6.266316   \n",
       "2021/9/8                -5.221486                5.208110   \n",
       "2021/9/9                -5.498740                5.469535   \n",
       "\n",
       "           tradeTime_embedding_44  tradeTime_embedding_45  \\\n",
       "2020/1/1                -2.797694               -2.829575   \n",
       "2020/1/10               -4.239377               -4.240359   \n",
       "2020/1/11               -4.286389               -4.259864   \n",
       "2020/1/12               -4.374018               -4.355794   \n",
       "2020/1/13               -3.269723               -3.256707   \n",
       "...                           ...                     ...   \n",
       "2021/9/5                -5.777793               -5.694810   \n",
       "2021/9/6                -6.397356               -6.412768   \n",
       "2021/9/7                -6.276702               -6.242121   \n",
       "2021/9/8                -5.158416               -5.154804   \n",
       "2021/9/9                -5.414953               -5.404446   \n",
       "\n",
       "           tradeTime_embedding_46  tradeTime_embedding_47  \\\n",
       "2020/1/1                 2.797089                2.819222   \n",
       "2020/1/10                4.324435                4.314686   \n",
       "2020/1/11                4.207788                4.260012   \n",
       "2020/1/12                4.347727                4.347612   \n",
       "2020/1/13                3.295443                3.297295   \n",
       "...                           ...                     ...   \n",
       "2021/9/5                 5.741557                5.785418   \n",
       "2021/9/6                 6.425796                6.401430   \n",
       "2021/9/7                 6.252997                6.226404   \n",
       "2021/9/8                 5.167676                5.216040   \n",
       "2021/9/9                 5.477474                5.435977   \n",
       "\n",
       "           tradeTime_embedding_48  tradeTime_embedding_49  \n",
       "2020/1/1                 2.795289                2.774925  \n",
       "2020/1/10                4.290268                4.261467  \n",
       "2020/1/11                4.301591                4.287869  \n",
       "2020/1/12                4.397804                4.387970  \n",
       "2020/1/13                3.273645                3.291085  \n",
       "...                           ...                     ...  \n",
       "2021/9/5                 5.767978                5.710990  \n",
       "2021/9/6                 6.358559                6.415920  \n",
       "2021/9/7                 6.316810                6.276836  \n",
       "2021/9/8                 5.230378                5.199464  \n",
       "2021/9/9                 5.471535                5.426218  \n",
       "\n",
       "[682 rows x 50 columns]"
      ]
     },
     "execution_count": 11,
     "metadata": {},
     "output_type": "execute_result"
    }
   ],
   "source": [
    "train_data_encoded['tradeTime']"
   ]
  },
  {
   "cell_type": "code",
   "execution_count": 12,
   "id": "09a7dbe2",
   "metadata": {},
   "outputs": [
    {
     "data": {
      "text/html": [
       "<div>\n",
       "<style scoped>\n",
       "    .dataframe tbody tr th:only-of-type {\n",
       "        vertical-align: middle;\n",
       "    }\n",
       "\n",
       "    .dataframe tbody tr th {\n",
       "        vertical-align: top;\n",
       "    }\n",
       "\n",
       "    .dataframe thead th {\n",
       "        text-align: right;\n",
       "    }\n",
       "</style>\n",
       "<table border=\"1\" class=\"dataframe\">\n",
       "  <thead>\n",
       "    <tr style=\"text-align: right;\">\n",
       "      <th></th>\n",
       "      <th>anonymousFeature7_embedding_0</th>\n",
       "      <th>anonymousFeature7_embedding_1</th>\n",
       "      <th>anonymousFeature7_embedding_2</th>\n",
       "      <th>anonymousFeature7_embedding_3</th>\n",
       "      <th>anonymousFeature7_embedding_4</th>\n",
       "      <th>anonymousFeature7_embedding_5</th>\n",
       "      <th>anonymousFeature7_embedding_6</th>\n",
       "      <th>anonymousFeature7_embedding_7</th>\n",
       "      <th>anonymousFeature7_embedding_8</th>\n",
       "      <th>anonymousFeature7_embedding_9</th>\n",
       "      <th>...</th>\n",
       "      <th>anonymousFeature7_embedding_40</th>\n",
       "      <th>anonymousFeature7_embedding_41</th>\n",
       "      <th>anonymousFeature7_embedding_42</th>\n",
       "      <th>anonymousFeature7_embedding_43</th>\n",
       "      <th>anonymousFeature7_embedding_44</th>\n",
       "      <th>anonymousFeature7_embedding_45</th>\n",
       "      <th>anonymousFeature7_embedding_46</th>\n",
       "      <th>anonymousFeature7_embedding_47</th>\n",
       "      <th>anonymousFeature7_embedding_48</th>\n",
       "      <th>anonymousFeature7_embedding_49</th>\n",
       "    </tr>\n",
       "  </thead>\n",
       "  <tbody>\n",
       "    <tr>\n",
       "      <th>0</th>\n",
       "      <td>-13.451273</td>\n",
       "      <td>13.465025</td>\n",
       "      <td>13.455828</td>\n",
       "      <td>13.442896</td>\n",
       "      <td>-13.436273</td>\n",
       "      <td>-13.446111</td>\n",
       "      <td>-13.478346</td>\n",
       "      <td>13.474504</td>\n",
       "      <td>-13.449364</td>\n",
       "      <td>-13.466134</td>\n",
       "      <td>...</td>\n",
       "      <td>-13.434599</td>\n",
       "      <td>13.468612</td>\n",
       "      <td>13.466931</td>\n",
       "      <td>-13.459965</td>\n",
       "      <td>-13.468732</td>\n",
       "      <td>13.431492</td>\n",
       "      <td>13.442351</td>\n",
       "      <td>13.470064</td>\n",
       "      <td>-13.443416</td>\n",
       "      <td>-13.451605</td>\n",
       "    </tr>\n",
       "    <tr>\n",
       "      <th>2008/12/15</th>\n",
       "      <td>-0.047517</td>\n",
       "      <td>-0.023585</td>\n",
       "      <td>0.046383</td>\n",
       "      <td>-0.048520</td>\n",
       "      <td>-0.027186</td>\n",
       "      <td>-0.000568</td>\n",
       "      <td>0.010626</td>\n",
       "      <td>0.018945</td>\n",
       "      <td>0.008280</td>\n",
       "      <td>0.001082</td>\n",
       "      <td>...</td>\n",
       "      <td>-0.044817</td>\n",
       "      <td>0.038981</td>\n",
       "      <td>0.001365</td>\n",
       "      <td>-0.032302</td>\n",
       "      <td>0.019829</td>\n",
       "      <td>0.031504</td>\n",
       "      <td>-0.018989</td>\n",
       "      <td>0.034961</td>\n",
       "      <td>0.025033</td>\n",
       "      <td>0.026776</td>\n",
       "    </tr>\n",
       "    <tr>\n",
       "      <th>2008/2/15</th>\n",
       "      <td>-1.321515</td>\n",
       "      <td>1.311306</td>\n",
       "      <td>1.315640</td>\n",
       "      <td>1.311637</td>\n",
       "      <td>-1.322050</td>\n",
       "      <td>-1.396410</td>\n",
       "      <td>-1.398129</td>\n",
       "      <td>1.362280</td>\n",
       "      <td>-1.375931</td>\n",
       "      <td>-1.315818</td>\n",
       "      <td>...</td>\n",
       "      <td>-1.325314</td>\n",
       "      <td>1.359838</td>\n",
       "      <td>1.350613</td>\n",
       "      <td>-1.335046</td>\n",
       "      <td>-1.367118</td>\n",
       "      <td>1.377032</td>\n",
       "      <td>1.362180</td>\n",
       "      <td>1.313615</td>\n",
       "      <td>-1.316689</td>\n",
       "      <td>-1.363250</td>\n",
       "    </tr>\n",
       "    <tr>\n",
       "      <th>2008/2/2</th>\n",
       "      <td>-1.313600</td>\n",
       "      <td>1.307098</td>\n",
       "      <td>1.306237</td>\n",
       "      <td>1.401973</td>\n",
       "      <td>-1.325252</td>\n",
       "      <td>-1.355621</td>\n",
       "      <td>-1.330481</td>\n",
       "      <td>1.312136</td>\n",
       "      <td>-1.398798</td>\n",
       "      <td>-1.333145</td>\n",
       "      <td>...</td>\n",
       "      <td>-1.341161</td>\n",
       "      <td>1.319690</td>\n",
       "      <td>1.323496</td>\n",
       "      <td>-1.356365</td>\n",
       "      <td>-1.374196</td>\n",
       "      <td>1.355259</td>\n",
       "      <td>1.356245</td>\n",
       "      <td>1.373778</td>\n",
       "      <td>-1.369919</td>\n",
       "      <td>-1.401294</td>\n",
       "    </tr>\n",
       "    <tr>\n",
       "      <th>2008/3/31</th>\n",
       "      <td>-1.394838</td>\n",
       "      <td>1.319199</td>\n",
       "      <td>1.361448</td>\n",
       "      <td>1.352151</td>\n",
       "      <td>-1.405593</td>\n",
       "      <td>-1.392917</td>\n",
       "      <td>-1.333967</td>\n",
       "      <td>1.397441</td>\n",
       "      <td>-1.347596</td>\n",
       "      <td>-1.400889</td>\n",
       "      <td>...</td>\n",
       "      <td>-1.355487</td>\n",
       "      <td>1.345655</td>\n",
       "      <td>1.334983</td>\n",
       "      <td>-1.401927</td>\n",
       "      <td>-1.410618</td>\n",
       "      <td>1.397019</td>\n",
       "      <td>1.362679</td>\n",
       "      <td>1.396047</td>\n",
       "      <td>-1.397395</td>\n",
       "      <td>-1.389656</td>\n",
       "    </tr>\n",
       "    <tr>\n",
       "      <th>...</th>\n",
       "      <td>...</td>\n",
       "      <td>...</td>\n",
       "      <td>...</td>\n",
       "      <td>...</td>\n",
       "      <td>...</td>\n",
       "      <td>...</td>\n",
       "      <td>...</td>\n",
       "      <td>...</td>\n",
       "      <td>...</td>\n",
       "      <td>...</td>\n",
       "      <td>...</td>\n",
       "      <td>...</td>\n",
       "      <td>...</td>\n",
       "      <td>...</td>\n",
       "      <td>...</td>\n",
       "      <td>...</td>\n",
       "      <td>...</td>\n",
       "      <td>...</td>\n",
       "      <td>...</td>\n",
       "      <td>...</td>\n",
       "      <td>...</td>\n",
       "    </tr>\n",
       "    <tr>\n",
       "      <th>2022/12/24</th>\n",
       "      <td>-0.010601</td>\n",
       "      <td>-0.001564</td>\n",
       "      <td>0.024218</td>\n",
       "      <td>0.032708</td>\n",
       "      <td>0.006307</td>\n",
       "      <td>-0.009946</td>\n",
       "      <td>0.007343</td>\n",
       "      <td>0.042387</td>\n",
       "      <td>0.048303</td>\n",
       "      <td>-0.022386</td>\n",
       "      <td>...</td>\n",
       "      <td>-0.005267</td>\n",
       "      <td>0.010153</td>\n",
       "      <td>0.032871</td>\n",
       "      <td>0.020234</td>\n",
       "      <td>0.020938</td>\n",
       "      <td>-0.009016</td>\n",
       "      <td>0.010756</td>\n",
       "      <td>0.038920</td>\n",
       "      <td>-0.039659</td>\n",
       "      <td>-0.021325</td>\n",
       "    </tr>\n",
       "    <tr>\n",
       "      <th>2022/2/28</th>\n",
       "      <td>-0.028200</td>\n",
       "      <td>0.017554</td>\n",
       "      <td>-0.014963</td>\n",
       "      <td>0.043011</td>\n",
       "      <td>-0.027790</td>\n",
       "      <td>0.006947</td>\n",
       "      <td>-0.026516</td>\n",
       "      <td>0.031851</td>\n",
       "      <td>0.017574</td>\n",
       "      <td>0.013463</td>\n",
       "      <td>...</td>\n",
       "      <td>0.002405</td>\n",
       "      <td>0.022117</td>\n",
       "      <td>-0.036384</td>\n",
       "      <td>-0.027236</td>\n",
       "      <td>0.013635</td>\n",
       "      <td>-0.032845</td>\n",
       "      <td>-0.013217</td>\n",
       "      <td>0.027612</td>\n",
       "      <td>0.004300</td>\n",
       "      <td>0.020243</td>\n",
       "    </tr>\n",
       "    <tr>\n",
       "      <th>2022/3/29</th>\n",
       "      <td>-1.357135</td>\n",
       "      <td>1.399037</td>\n",
       "      <td>1.317385</td>\n",
       "      <td>1.371114</td>\n",
       "      <td>-1.352656</td>\n",
       "      <td>-1.349481</td>\n",
       "      <td>-1.411032</td>\n",
       "      <td>1.393846</td>\n",
       "      <td>-1.382957</td>\n",
       "      <td>-1.391417</td>\n",
       "      <td>...</td>\n",
       "      <td>-1.349192</td>\n",
       "      <td>1.408443</td>\n",
       "      <td>1.395711</td>\n",
       "      <td>-1.313363</td>\n",
       "      <td>-1.333241</td>\n",
       "      <td>1.399858</td>\n",
       "      <td>1.365075</td>\n",
       "      <td>1.313659</td>\n",
       "      <td>-1.409237</td>\n",
       "      <td>-1.408254</td>\n",
       "    </tr>\n",
       "    <tr>\n",
       "      <th>2022/4/13</th>\n",
       "      <td>-1.288550</td>\n",
       "      <td>1.252034</td>\n",
       "      <td>1.255524</td>\n",
       "      <td>1.252993</td>\n",
       "      <td>-1.307307</td>\n",
       "      <td>-1.278602</td>\n",
       "      <td>-1.311216</td>\n",
       "      <td>1.308174</td>\n",
       "      <td>-1.303341</td>\n",
       "      <td>-1.309583</td>\n",
       "      <td>...</td>\n",
       "      <td>-1.239517</td>\n",
       "      <td>1.251659</td>\n",
       "      <td>1.305423</td>\n",
       "      <td>-1.247561</td>\n",
       "      <td>-1.229510</td>\n",
       "      <td>1.271070</td>\n",
       "      <td>1.260462</td>\n",
       "      <td>1.315978</td>\n",
       "      <td>-1.242540</td>\n",
       "      <td>-1.294145</td>\n",
       "    </tr>\n",
       "    <tr>\n",
       "      <th>2022/4/19</th>\n",
       "      <td>0.017985</td>\n",
       "      <td>0.006409</td>\n",
       "      <td>-0.021542</td>\n",
       "      <td>0.008033</td>\n",
       "      <td>-0.038812</td>\n",
       "      <td>0.012356</td>\n",
       "      <td>-0.021141</td>\n",
       "      <td>0.009452</td>\n",
       "      <td>0.041417</td>\n",
       "      <td>0.004406</td>\n",
       "      <td>...</td>\n",
       "      <td>0.035715</td>\n",
       "      <td>-0.004125</td>\n",
       "      <td>0.018239</td>\n",
       "      <td>0.009125</td>\n",
       "      <td>0.003481</td>\n",
       "      <td>-0.031269</td>\n",
       "      <td>-0.022350</td>\n",
       "      <td>-0.047379</td>\n",
       "      <td>0.004533</td>\n",
       "      <td>0.016680</td>\n",
       "    </tr>\n",
       "  </tbody>\n",
       "</table>\n",
       "<p>2140 rows × 50 columns</p>\n",
       "</div>"
      ],
      "text/plain": [
       "            anonymousFeature7_embedding_0  anonymousFeature7_embedding_1  \\\n",
       "0                              -13.451273                      13.465025   \n",
       "2008/12/15                      -0.047517                      -0.023585   \n",
       "2008/2/15                       -1.321515                       1.311306   \n",
       "2008/2/2                        -1.313600                       1.307098   \n",
       "2008/3/31                       -1.394838                       1.319199   \n",
       "...                                   ...                            ...   \n",
       "2022/12/24                      -0.010601                      -0.001564   \n",
       "2022/2/28                       -0.028200                       0.017554   \n",
       "2022/3/29                       -1.357135                       1.399037   \n",
       "2022/4/13                       -1.288550                       1.252034   \n",
       "2022/4/19                        0.017985                       0.006409   \n",
       "\n",
       "            anonymousFeature7_embedding_2  anonymousFeature7_embedding_3  \\\n",
       "0                               13.455828                      13.442896   \n",
       "2008/12/15                       0.046383                      -0.048520   \n",
       "2008/2/15                        1.315640                       1.311637   \n",
       "2008/2/2                         1.306237                       1.401973   \n",
       "2008/3/31                        1.361448                       1.352151   \n",
       "...                                   ...                            ...   \n",
       "2022/12/24                       0.024218                       0.032708   \n",
       "2022/2/28                       -0.014963                       0.043011   \n",
       "2022/3/29                        1.317385                       1.371114   \n",
       "2022/4/13                        1.255524                       1.252993   \n",
       "2022/4/19                       -0.021542                       0.008033   \n",
       "\n",
       "            anonymousFeature7_embedding_4  anonymousFeature7_embedding_5  \\\n",
       "0                              -13.436273                     -13.446111   \n",
       "2008/12/15                      -0.027186                      -0.000568   \n",
       "2008/2/15                       -1.322050                      -1.396410   \n",
       "2008/2/2                        -1.325252                      -1.355621   \n",
       "2008/3/31                       -1.405593                      -1.392917   \n",
       "...                                   ...                            ...   \n",
       "2022/12/24                       0.006307                      -0.009946   \n",
       "2022/2/28                       -0.027790                       0.006947   \n",
       "2022/3/29                       -1.352656                      -1.349481   \n",
       "2022/4/13                       -1.307307                      -1.278602   \n",
       "2022/4/19                       -0.038812                       0.012356   \n",
       "\n",
       "            anonymousFeature7_embedding_6  anonymousFeature7_embedding_7  \\\n",
       "0                              -13.478346                      13.474504   \n",
       "2008/12/15                       0.010626                       0.018945   \n",
       "2008/2/15                       -1.398129                       1.362280   \n",
       "2008/2/2                        -1.330481                       1.312136   \n",
       "2008/3/31                       -1.333967                       1.397441   \n",
       "...                                   ...                            ...   \n",
       "2022/12/24                       0.007343                       0.042387   \n",
       "2022/2/28                       -0.026516                       0.031851   \n",
       "2022/3/29                       -1.411032                       1.393846   \n",
       "2022/4/13                       -1.311216                       1.308174   \n",
       "2022/4/19                       -0.021141                       0.009452   \n",
       "\n",
       "            anonymousFeature7_embedding_8  anonymousFeature7_embedding_9  ...  \\\n",
       "0                              -13.449364                     -13.466134  ...   \n",
       "2008/12/15                       0.008280                       0.001082  ...   \n",
       "2008/2/15                       -1.375931                      -1.315818  ...   \n",
       "2008/2/2                        -1.398798                      -1.333145  ...   \n",
       "2008/3/31                       -1.347596                      -1.400889  ...   \n",
       "...                                   ...                            ...  ...   \n",
       "2022/12/24                       0.048303                      -0.022386  ...   \n",
       "2022/2/28                        0.017574                       0.013463  ...   \n",
       "2022/3/29                       -1.382957                      -1.391417  ...   \n",
       "2022/4/13                       -1.303341                      -1.309583  ...   \n",
       "2022/4/19                        0.041417                       0.004406  ...   \n",
       "\n",
       "            anonymousFeature7_embedding_40  anonymousFeature7_embedding_41  \\\n",
       "0                               -13.434599                       13.468612   \n",
       "2008/12/15                       -0.044817                        0.038981   \n",
       "2008/2/15                        -1.325314                        1.359838   \n",
       "2008/2/2                         -1.341161                        1.319690   \n",
       "2008/3/31                        -1.355487                        1.345655   \n",
       "...                                    ...                             ...   \n",
       "2022/12/24                       -0.005267                        0.010153   \n",
       "2022/2/28                         0.002405                        0.022117   \n",
       "2022/3/29                        -1.349192                        1.408443   \n",
       "2022/4/13                        -1.239517                        1.251659   \n",
       "2022/4/19                         0.035715                       -0.004125   \n",
       "\n",
       "            anonymousFeature7_embedding_42  anonymousFeature7_embedding_43  \\\n",
       "0                                13.466931                      -13.459965   \n",
       "2008/12/15                        0.001365                       -0.032302   \n",
       "2008/2/15                         1.350613                       -1.335046   \n",
       "2008/2/2                          1.323496                       -1.356365   \n",
       "2008/3/31                         1.334983                       -1.401927   \n",
       "...                                    ...                             ...   \n",
       "2022/12/24                        0.032871                        0.020234   \n",
       "2022/2/28                        -0.036384                       -0.027236   \n",
       "2022/3/29                         1.395711                       -1.313363   \n",
       "2022/4/13                         1.305423                       -1.247561   \n",
       "2022/4/19                         0.018239                        0.009125   \n",
       "\n",
       "            anonymousFeature7_embedding_44  anonymousFeature7_embedding_45  \\\n",
       "0                               -13.468732                       13.431492   \n",
       "2008/12/15                        0.019829                        0.031504   \n",
       "2008/2/15                        -1.367118                        1.377032   \n",
       "2008/2/2                         -1.374196                        1.355259   \n",
       "2008/3/31                        -1.410618                        1.397019   \n",
       "...                                    ...                             ...   \n",
       "2022/12/24                        0.020938                       -0.009016   \n",
       "2022/2/28                         0.013635                       -0.032845   \n",
       "2022/3/29                        -1.333241                        1.399858   \n",
       "2022/4/13                        -1.229510                        1.271070   \n",
       "2022/4/19                         0.003481                       -0.031269   \n",
       "\n",
       "            anonymousFeature7_embedding_46  anonymousFeature7_embedding_47  \\\n",
       "0                                13.442351                       13.470064   \n",
       "2008/12/15                       -0.018989                        0.034961   \n",
       "2008/2/15                         1.362180                        1.313615   \n",
       "2008/2/2                          1.356245                        1.373778   \n",
       "2008/3/31                         1.362679                        1.396047   \n",
       "...                                    ...                             ...   \n",
       "2022/12/24                        0.010756                        0.038920   \n",
       "2022/2/28                        -0.013217                        0.027612   \n",
       "2022/3/29                         1.365075                        1.313659   \n",
       "2022/4/13                         1.260462                        1.315978   \n",
       "2022/4/19                        -0.022350                       -0.047379   \n",
       "\n",
       "            anonymousFeature7_embedding_48  anonymousFeature7_embedding_49  \n",
       "0                               -13.443416                      -13.451605  \n",
       "2008/12/15                        0.025033                        0.026776  \n",
       "2008/2/15                        -1.316689                       -1.363250  \n",
       "2008/2/2                         -1.369919                       -1.401294  \n",
       "2008/3/31                        -1.397395                       -1.389656  \n",
       "...                                    ...                             ...  \n",
       "2022/12/24                       -0.039659                       -0.021325  \n",
       "2022/2/28                         0.004300                        0.020243  \n",
       "2022/3/29                        -1.409237                       -1.408254  \n",
       "2022/4/13                        -1.242540                       -1.294145  \n",
       "2022/4/19                         0.004533                        0.016680  \n",
       "\n",
       "[2140 rows x 50 columns]"
      ]
     },
     "execution_count": 12,
     "metadata": {},
     "output_type": "execute_result"
    }
   ],
   "source": [
    "train_data_encoded['anonymousFeature7']"
   ]
  },
  {
   "cell_type": "code",
   "execution_count": 13,
   "id": "7d9fe597",
   "metadata": {},
   "outputs": [
    {
     "data": {
      "application/vnd.jupyter.widget-view+json": {
       "model_id": "1264d25e63154f60a6c7aa47f719b59d",
       "version_major": 2,
       "version_minor": 0
      },
      "text/plain": [
       "  0%|          | 0/7 [00:00<?, ?it/s]"
      ]
     },
     "metadata": {},
     "output_type": "display_data"
    },
    {
     "data": {
      "text/html": [
       "<div>\n",
       "<style scoped>\n",
       "    .dataframe tbody tr th:only-of-type {\n",
       "        vertical-align: middle;\n",
       "    }\n",
       "\n",
       "    .dataframe tbody tr th {\n",
       "        vertical-align: top;\n",
       "    }\n",
       "\n",
       "    .dataframe thead th {\n",
       "        text-align: right;\n",
       "    }\n",
       "</style>\n",
       "<table border=\"1\" class=\"dataframe\">\n",
       "  <thead>\n",
       "    <tr style=\"text-align: right;\">\n",
       "      <th></th>\n",
       "      <th>brand</th>\n",
       "      <th>serial</th>\n",
       "      <th>model</th>\n",
       "      <th>mileage</th>\n",
       "      <th>color</th>\n",
       "      <th>cityId</th>\n",
       "      <th>carCode</th>\n",
       "      <th>transferCount</th>\n",
       "      <th>seatings</th>\n",
       "      <th>country</th>\n",
       "      <th>...</th>\n",
       "      <th>anonymousFeature15_embedding_40</th>\n",
       "      <th>anonymousFeature15_embedding_41</th>\n",
       "      <th>anonymousFeature15_embedding_42</th>\n",
       "      <th>anonymousFeature15_embedding_43</th>\n",
       "      <th>anonymousFeature15_embedding_44</th>\n",
       "      <th>anonymousFeature15_embedding_45</th>\n",
       "      <th>anonymousFeature15_embedding_46</th>\n",
       "      <th>anonymousFeature15_embedding_47</th>\n",
       "      <th>anonymousFeature15_embedding_48</th>\n",
       "      <th>anonymousFeature15_embedding_49</th>\n",
       "    </tr>\n",
       "  </thead>\n",
       "  <tbody>\n",
       "    <tr>\n",
       "      <th>0</th>\n",
       "      <td>1</td>\n",
       "      <td>1</td>\n",
       "      <td>1</td>\n",
       "      <td>4.01</td>\n",
       "      <td>1</td>\n",
       "      <td>1</td>\n",
       "      <td>1</td>\n",
       "      <td>0</td>\n",
       "      <td>5</td>\n",
       "      <td>779413</td>\n",
       "      <td>...</td>\n",
       "      <td>-13.471803</td>\n",
       "      <td>-13.487217</td>\n",
       "      <td>-13.46157</td>\n",
       "      <td>-13.496195</td>\n",
       "      <td>-13.497024</td>\n",
       "      <td>13.47478</td>\n",
       "      <td>13.465812</td>\n",
       "      <td>-13.463632</td>\n",
       "      <td>13.473866</td>\n",
       "      <td>13.490201</td>\n",
       "    </tr>\n",
       "    <tr>\n",
       "      <th>1</th>\n",
       "      <td>2</td>\n",
       "      <td>2</td>\n",
       "      <td>2</td>\n",
       "      <td>8.60</td>\n",
       "      <td>1</td>\n",
       "      <td>2</td>\n",
       "      <td>1</td>\n",
       "      <td>0</td>\n",
       "      <td>5</td>\n",
       "      <td>779415</td>\n",
       "      <td>...</td>\n",
       "      <td>-13.471803</td>\n",
       "      <td>-13.487217</td>\n",
       "      <td>-13.46157</td>\n",
       "      <td>-13.496195</td>\n",
       "      <td>-13.497024</td>\n",
       "      <td>13.47478</td>\n",
       "      <td>13.465812</td>\n",
       "      <td>-13.463632</td>\n",
       "      <td>13.473866</td>\n",
       "      <td>13.490201</td>\n",
       "    </tr>\n",
       "    <tr>\n",
       "      <th>2</th>\n",
       "      <td>5</td>\n",
       "      <td>5</td>\n",
       "      <td>5</td>\n",
       "      <td>15.56</td>\n",
       "      <td>1</td>\n",
       "      <td>2</td>\n",
       "      <td>3</td>\n",
       "      <td>0</td>\n",
       "      <td>5</td>\n",
       "      <td>0</td>\n",
       "      <td>...</td>\n",
       "      <td>-13.471803</td>\n",
       "      <td>-13.487217</td>\n",
       "      <td>-13.46157</td>\n",
       "      <td>-13.496195</td>\n",
       "      <td>-13.497024</td>\n",
       "      <td>13.47478</td>\n",
       "      <td>13.465812</td>\n",
       "      <td>-13.463632</td>\n",
       "      <td>13.473866</td>\n",
       "      <td>13.490201</td>\n",
       "    </tr>\n",
       "    <tr>\n",
       "      <th>3</th>\n",
       "      <td>6</td>\n",
       "      <td>6</td>\n",
       "      <td>6</td>\n",
       "      <td>6.04</td>\n",
       "      <td>1</td>\n",
       "      <td>3</td>\n",
       "      <td>1</td>\n",
       "      <td>3</td>\n",
       "      <td>5</td>\n",
       "      <td>779413</td>\n",
       "      <td>...</td>\n",
       "      <td>-13.471803</td>\n",
       "      <td>-13.487217</td>\n",
       "      <td>-13.46157</td>\n",
       "      <td>-13.496195</td>\n",
       "      <td>-13.497024</td>\n",
       "      <td>13.47478</td>\n",
       "      <td>13.465812</td>\n",
       "      <td>-13.463632</td>\n",
       "      <td>13.473866</td>\n",
       "      <td>13.490201</td>\n",
       "    </tr>\n",
       "    <tr>\n",
       "      <th>4</th>\n",
       "      <td>7</td>\n",
       "      <td>7</td>\n",
       "      <td>7</td>\n",
       "      <td>5.70</td>\n",
       "      <td>4</td>\n",
       "      <td>1</td>\n",
       "      <td>2</td>\n",
       "      <td>2</td>\n",
       "      <td>5</td>\n",
       "      <td>779415</td>\n",
       "      <td>...</td>\n",
       "      <td>-13.471803</td>\n",
       "      <td>-13.487217</td>\n",
       "      <td>-13.46157</td>\n",
       "      <td>-13.496195</td>\n",
       "      <td>-13.497024</td>\n",
       "      <td>13.47478</td>\n",
       "      <td>13.465812</td>\n",
       "      <td>-13.463632</td>\n",
       "      <td>13.473866</td>\n",
       "      <td>13.490201</td>\n",
       "    </tr>\n",
       "  </tbody>\n",
       "</table>\n",
       "<p>5 rows × 331 columns</p>\n",
       "</div>"
      ],
      "text/plain": [
       "   brand  serial  model  mileage  color  cityId  carCode  transferCount  \\\n",
       "0      1       1      1     4.01      1       1        1              0   \n",
       "1      2       2      2     8.60      1       2        1              0   \n",
       "2      5       5      5    15.56      1       2        3              0   \n",
       "3      6       6      6     6.04      1       3        1              3   \n",
       "4      7       7      7     5.70      4       1        2              2   \n",
       "\n",
       "   seatings  country  ...  anonymousFeature15_embedding_40  \\\n",
       "0         5   779413  ...                       -13.471803   \n",
       "1         5   779415  ...                       -13.471803   \n",
       "2         5        0  ...                       -13.471803   \n",
       "3         5   779413  ...                       -13.471803   \n",
       "4         5   779415  ...                       -13.471803   \n",
       "\n",
       "   anonymousFeature15_embedding_41  anonymousFeature15_embedding_42  \\\n",
       "0                       -13.487217                        -13.46157   \n",
       "1                       -13.487217                        -13.46157   \n",
       "2                       -13.487217                        -13.46157   \n",
       "3                       -13.487217                        -13.46157   \n",
       "4                       -13.487217                        -13.46157   \n",
       "\n",
       "   anonymousFeature15_embedding_43  anonymousFeature15_embedding_44  \\\n",
       "0                       -13.496195                       -13.497024   \n",
       "1                       -13.496195                       -13.497024   \n",
       "2                       -13.496195                       -13.497024   \n",
       "3                       -13.496195                       -13.497024   \n",
       "4                       -13.496195                       -13.497024   \n",
       "\n",
       "   anonymousFeature15_embedding_45  anonymousFeature15_embedding_46  \\\n",
       "0                         13.47478                        13.465812   \n",
       "1                         13.47478                        13.465812   \n",
       "2                         13.47478                        13.465812   \n",
       "3                         13.47478                        13.465812   \n",
       "4                         13.47478                        13.465812   \n",
       "\n",
       "   anonymousFeature15_embedding_47  anonymousFeature15_embedding_48  \\\n",
       "0                       -13.463632                        13.473866   \n",
       "1                       -13.463632                        13.473866   \n",
       "2                       -13.463632                        13.473866   \n",
       "3                       -13.463632                        13.473866   \n",
       "4                       -13.463632                        13.473866   \n",
       "\n",
       "   anonymousFeature15_embedding_49  \n",
       "0                        13.490201  \n",
       "1                        13.490201  \n",
       "2                        13.490201  \n",
       "3                        13.490201  \n",
       "4                        13.490201  \n",
       "\n",
       "[5 rows x 331 columns]"
      ]
     },
     "execution_count": 13,
     "metadata": {},
     "output_type": "execute_result"
    }
   ],
   "source": [
    "train_data_regular = ce.fit_transform(X, embeddings=embeddings, encoders=encoders, drop_categorical_vars=True)\n",
    "train_data_regular.head()"
   ]
  },
  {
   "cell_type": "code",
   "execution_count": 14,
   "id": "f9266971",
   "metadata": {},
   "outputs": [],
   "source": [
    "train_data_regular.to_csv('result.csv')\n"
   ]
  },
  {
   "cell_type": "code",
   "execution_count": null,
   "id": "67ab4a3f",
   "metadata": {},
   "outputs": [],
   "source": []
  }
 ],
 "metadata": {
  "kernelspec": {
   "display_name": "Python 3 (ipykernel)",
   "language": "python",
   "name": "python3"
  },
  "language_info": {
   "codemirror_mode": {
    "name": "ipython",
    "version": 3
   },
   "file_extension": ".py",
   "mimetype": "text/x-python",
   "name": "python",
   "nbconvert_exporter": "python",
   "pygments_lexer": "ipython3",
   "version": "3.7.11"
  }
 },
 "nbformat": 4,
 "nbformat_minor": 5
}
